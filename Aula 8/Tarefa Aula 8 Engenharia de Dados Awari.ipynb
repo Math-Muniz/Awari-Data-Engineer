{
 "cells": [
  {
   "cell_type": "code",
   "execution_count": 1,
   "id": "f16050d2-0d2d-4092-9cc5-b7e17187dea5",
   "metadata": {
    "tags": []
   },
   "outputs": [
    {
     "name": "stdout",
     "output_type": "stream",
     "text": [
      "Requirement already satisfied: psycopg2-binary in /opt/conda/lib/python3.10/site-packages (2.9.6)\n",
      "Requirement already satisfied: s3fs in /opt/conda/lib/python3.10/site-packages (2023.5.0)\n",
      "Requirement already satisfied: aiobotocore~=2.5.0 in /opt/conda/lib/python3.10/site-packages (from s3fs) (2.5.0)\n",
      "Requirement already satisfied: fsspec==2023.5.0 in /opt/conda/lib/python3.10/site-packages (from s3fs) (2023.5.0)\n",
      "Requirement already satisfied: aiohttp!=4.0.0a0,!=4.0.0a1 in /opt/conda/lib/python3.10/site-packages (from s3fs) (3.8.4)\n",
      "Collecting botocore<1.29.77,>=1.29.76\n",
      "  Using cached botocore-1.29.76-py3-none-any.whl (10.4 MB)\n",
      "Requirement already satisfied: wrapt>=1.10.10 in /opt/conda/lib/python3.10/site-packages (from aiobotocore~=2.5.0->s3fs) (1.15.0)\n",
      "Requirement already satisfied: aioitertools>=0.5.1 in /opt/conda/lib/python3.10/site-packages (from aiobotocore~=2.5.0->s3fs) (0.11.0)\n",
      "Requirement already satisfied: yarl<2.0,>=1.0 in /opt/conda/lib/python3.10/site-packages (from aiohttp!=4.0.0a0,!=4.0.0a1->s3fs) (1.9.2)\n",
      "Requirement already satisfied: aiosignal>=1.1.2 in /opt/conda/lib/python3.10/site-packages (from aiohttp!=4.0.0a0,!=4.0.0a1->s3fs) (1.3.1)\n",
      "Requirement already satisfied: charset-normalizer<4.0,>=2.0 in /opt/conda/lib/python3.10/site-packages (from aiohttp!=4.0.0a0,!=4.0.0a1->s3fs) (2.1.1)\n",
      "Requirement already satisfied: async-timeout<5.0,>=4.0.0a3 in /opt/conda/lib/python3.10/site-packages (from aiohttp!=4.0.0a0,!=4.0.0a1->s3fs) (4.0.2)\n",
      "Requirement already satisfied: frozenlist>=1.1.1 in /opt/conda/lib/python3.10/site-packages (from aiohttp!=4.0.0a0,!=4.0.0a1->s3fs) (1.3.3)\n",
      "Requirement already satisfied: attrs>=17.3.0 in /opt/conda/lib/python3.10/site-packages (from aiohttp!=4.0.0a0,!=4.0.0a1->s3fs) (22.2.0)\n",
      "Requirement already satisfied: multidict<7.0,>=4.5 in /opt/conda/lib/python3.10/site-packages (from aiohttp!=4.0.0a0,!=4.0.0a1->s3fs) (6.0.4)\n",
      "Requirement already satisfied: python-dateutil<3.0.0,>=2.1 in /opt/conda/lib/python3.10/site-packages (from botocore<1.29.77,>=1.29.76->aiobotocore~=2.5.0->s3fs) (2.8.2)\n",
      "Requirement already satisfied: urllib3<1.27,>=1.25.4 in /opt/conda/lib/python3.10/site-packages (from botocore<1.29.77,>=1.29.76->aiobotocore~=2.5.0->s3fs) (1.26.14)\n",
      "Requirement already satisfied: jmespath<2.0.0,>=0.7.1 in /opt/conda/lib/python3.10/site-packages (from botocore<1.29.77,>=1.29.76->aiobotocore~=2.5.0->s3fs) (1.0.1)\n",
      "Requirement already satisfied: idna>=2.0 in /opt/conda/lib/python3.10/site-packages (from yarl<2.0,>=1.0->aiohttp!=4.0.0a0,!=4.0.0a1->s3fs) (3.4)\n",
      "Requirement already satisfied: six>=1.5 in /opt/conda/lib/python3.10/site-packages (from python-dateutil<3.0.0,>=2.1->botocore<1.29.77,>=1.29.76->aiobotocore~=2.5.0->s3fs) (1.16.0)\n",
      "Installing collected packages: botocore\n",
      "  Attempting uninstall: botocore\n",
      "    Found existing installation: botocore 1.29.132\n",
      "    Uninstalling botocore-1.29.132:\n",
      "      Successfully uninstalled botocore-1.29.132\n",
      "\u001b[31mERROR: pip's dependency resolver does not currently take into account all the packages that are installed. This behaviour is the source of the following dependency conflicts.\n",
      "boto3 1.26.132 requires botocore<1.30.0,>=1.29.132, but you have botocore 1.29.76 which is incompatible.\u001b[0m\u001b[31m\n",
      "\u001b[0mSuccessfully installed botocore-1.29.76\n",
      "Requirement already satisfied: boto3 in /opt/conda/lib/python3.10/site-packages (1.26.132)\n",
      "Requirement already satisfied: botocore in /opt/conda/lib/python3.10/site-packages (1.29.76)\n",
      "Collecting botocore\n",
      "  Using cached botocore-1.29.132-py3-none-any.whl (10.7 MB)\n",
      "Requirement already satisfied: s3transfer<0.7.0,>=0.6.0 in /opt/conda/lib/python3.10/site-packages (from boto3) (0.6.1)\n",
      "Requirement already satisfied: jmespath<2.0.0,>=0.7.1 in /opt/conda/lib/python3.10/site-packages (from boto3) (1.0.1)\n",
      "Requirement already satisfied: urllib3<1.27,>=1.25.4 in /opt/conda/lib/python3.10/site-packages (from botocore) (1.26.14)\n",
      "Requirement already satisfied: python-dateutil<3.0.0,>=2.1 in /opt/conda/lib/python3.10/site-packages (from botocore) (2.8.2)\n",
      "Requirement already satisfied: six>=1.5 in /opt/conda/lib/python3.10/site-packages (from python-dateutil<3.0.0,>=2.1->botocore) (1.16.0)\n",
      "Installing collected packages: botocore\n",
      "  Attempting uninstall: botocore\n",
      "    Found existing installation: botocore 1.29.76\n",
      "    Uninstalling botocore-1.29.76:\n",
      "      Successfully uninstalled botocore-1.29.76\n",
      "\u001b[31mERROR: pip's dependency resolver does not currently take into account all the packages that are installed. This behaviour is the source of the following dependency conflicts.\n",
      "aiobotocore 2.5.0 requires botocore<1.29.77,>=1.29.76, but you have botocore 1.29.132 which is incompatible.\u001b[0m\u001b[31m\n",
      "\u001b[0mSuccessfully installed botocore-1.29.132\n",
      "Requirement already satisfied: minio in /opt/conda/lib/python3.10/site-packages (7.1.14)\n",
      "Requirement already satisfied: urllib3 in /opt/conda/lib/python3.10/site-packages (from minio) (1.26.14)\n",
      "Requirement already satisfied: certifi in /opt/conda/lib/python3.10/site-packages (from minio) (2022.12.7)\n"
     ]
    }
   ],
   "source": [
    "!pip install psycopg2-binary\n",
    "!pip install s3fs\n",
    "!pip install --upgrade boto3 botocore\n",
    "!pip install minio"
   ]
  },
  {
   "cell_type": "code",
   "execution_count": 2,
   "id": "a3b97233-699e-4fe9-b7c5-ea739adb55ad",
   "metadata": {
    "tags": []
   },
   "outputs": [],
   "source": [
    "import pandas as pd\n",
    "import io\n",
    "import os\n",
    "import boto3\n",
    "import pyspark\n",
    "import s3fs\n",
    "import pyarrow as pa\n",
    "import pyarrow.parquet as pq\n",
    "from pyspark.sql import SparkSession\n",
    "from pyspark.sql.functions import to_json, struct\n",
    "from pyspark.sql.types import StructType,StructField, StringType, IntegerType \n",
    "from pyspark.sql.types import ArrayType, DoubleType, BooleanType\n",
    "from pyspark.sql.functions import col,array_contains\n",
    "from minio import Minio\n",
    "from minio.error import S3Error\n",
    "from sqlalchemy import create_engine\n",
    "import psycopg2"
   ]
  },
  {
   "cell_type": "code",
   "execution_count": 3,
   "id": "f6484869-2d06-48b8-8b49-63a0af060b21",
   "metadata": {
    "tags": []
   },
   "outputs": [],
   "source": [
    "# Criando uma sessão com o Spark que existe localmente(atualmente configurado junto com o JupyterLab)\n",
    "spark = SparkSession.builder \\\n",
    "      .master(\"local[1]\") \\\n",
    "      .appName(\"AwariAula08\") \\\n",
    "      .getOrCreate() "
   ]
  },
  {
   "cell_type": "code",
   "execution_count": 4,
   "id": "8a0eb217-2ef8-4e84-afcd-cb00df7d677f",
   "metadata": {
    "tags": []
   },
   "outputs": [],
   "source": [
    "spark.stop()\n",
    "\n",
    "conf = pyspark.SparkConf()\n",
    "\n",
    "# Criando uma sessão com o Spark que existe localmente(atualmente configurado junto com o JupyterLab)\n",
    "conf.setMaster(\"local[1]\") \n",
    "conf.set(\"spark.driver.host\", \"awari-jupyterlab\") \\\n",
    "    .set(\"spark.sql.sources.commitProtocolClass\", \"org.apache.spark.sql.execution.datasources.SQLHadoopMapReduceCommitProtocol\") \\\n",
    "    .set(\"parquet.enable.summary-metadata\", \"false\") \\\n",
    "    .set(\"mapreduce.fileoutputcommitter.marksuccessfuljobs\", \"false\") \\\n",
    "    .set(\"spark.driver.port\", \"20020\") \\\n",
    "    .set(\"spark.hadoop.fs.s3a.endpoint\", 'awari-nginx:9000') \\\n",
    "    .set(\"spark.hadoop.fs.s3a.endpoint.region\", 'sa-east-1') \\\n",
    "    .set(\"spark.hadoop.fs.s3a.access.key\", '4Xf3Q7unyUtmTVFH') \\\n",
    "    .set(\"spark.hadoop.fs.s3a.secret.key\", 'q0b3SiIc28hy0750XN3uL1u5G5CzW0hR') \\\n",
    "    .set(\"spark.hadoop.fs.s3a.impl\", \"org.apache.hadoop.fs.s3a.S3AFileSystem\") \\\n",
    "    .set(\"spark.hadoop.fs.s3a.connection.ssl.enabled\", \"false\") \\\n",
    "    .set(\"spark.hadoop.com.amazonaws.services.s3.enableV2\", \"true\") \\\n",
    "    .set(\"spark.hadoop.fs.s3a.committer.staging.conflict-mode\", \"replace\") \\\n",
    "    .set(\"spark.hadoop.fs.s3a.fast.upload\", True) \\\n",
    "    .set(\"spark.hadoop.fs.s3a.path.style.access\", True) \\\n",
    "    .set(\"spark.hadoop.fs.s3a.committer.name\", \"directory\") \\\n",
    "    .set(\"spark.hadoop.fs.s3a.committer.staging.tmp.path\", \"/tmp/staging\")\n",
    "\n",
    "conf.setAppName('AwariAula08-S33')\n",
    "sc = pyspark.SparkContext(conf=conf)\n",
    "\n",
    "spark = SparkSession(sc)"
   ]
  },
  {
   "cell_type": "code",
   "execution_count": 5,
   "id": "62b527a8-9813-447a-8a92-65203159bde7",
   "metadata": {
    "tags": []
   },
   "outputs": [],
   "source": [
    "client = boto3.client('s3', \n",
    "    endpoint_url='http://awari-minio-nginx:9000',\n",
    "    aws_access_key_id='4Xf3Q7unyUtmTVFH',\n",
    "    aws_secret_access_key='q0b3SiIc28hy0750XN3uL1u5G5CzW0hR',\n",
    "    aws_session_token=None,\n",
    "    config=boto3.session.Config(signature_version='s3v4'),\n",
    "    verify=False,\n",
    "    region_name='sa-east-1'\n",
    ")"
   ]
  },
  {
   "cell_type": "code",
   "execution_count": 6,
   "id": "87120584-dc3b-4514-8c0e-0897b9b84b3c",
   "metadata": {
    "tags": []
   },
   "outputs": [],
   "source": [
    "# Importar CSVs como dataframes do Spark\n",
    "df_estados = spark.read.option(\"header\", True).csv(\"exercicios/municipios-estados/csv/estados.csv\")\n",
    "df_municipios = spark.read.option(\"header\", True).csv(\"exercicios/municipios-estados/csv/municipios.csv\")"
   ]
  },
  {
   "cell_type": "code",
   "execution_count": 7,
   "id": "2ef5dbd1-78bd-4a0b-a31a-afcfa05f9e07",
   "metadata": {
    "tags": []
   },
   "outputs": [
    {
     "data": {
      "text/plain": [
       "[Row(codigo_uf='11', uf='RO', nome='Rondônia', latitude='-10.83', longitude='-63.34', regiao='Norte'),\n",
       " Row(codigo_uf='12', uf='AC', nome='Acre', latitude='-8.77', longitude='-70.55', regiao='Norte'),\n",
       " Row(codigo_uf='13', uf='AM', nome='Amazonas', latitude='-3.47', longitude='-65.1', regiao='Norte'),\n",
       " Row(codigo_uf='14', uf='RR', nome='Roraima', latitude='1.99', longitude='-61.33', regiao='Norte'),\n",
       " Row(codigo_uf='15', uf='PA', nome='Pará', latitude='-3.79', longitude='-52.48', regiao='Norte')]"
      ]
     },
     "execution_count": 7,
     "metadata": {},
     "output_type": "execute_result"
    }
   ],
   "source": [
    "df_estados.take(5)"
   ]
  },
  {
   "cell_type": "code",
   "execution_count": 8,
   "id": "f20cd877-614e-4b79-bc4a-af53bbaa27ee",
   "metadata": {
    "tags": []
   },
   "outputs": [
    {
     "data": {
      "text/plain": [
       "[Row(codigo_ibge='5200050', nome='Abadia de Goiás', latitude='-16.7573', longitude='-49.4412', capital='0', codigo_uf='52', siafi_id='1050', ddd='62', fuso_horario='America/Sao_Paulo'),\n",
       " Row(codigo_ibge='3100104', nome='Abadia dos Dourados', latitude='-18.4831', longitude='-47.3916', capital='0', codigo_uf='31', siafi_id='4001', ddd='34', fuso_horario='America/Sao_Paulo'),\n",
       " Row(codigo_ibge='5200100', nome='Abadiânia', latitude='-16.197', longitude='-48.7057', capital='0', codigo_uf='52', siafi_id='9201', ddd='62', fuso_horario='America/Sao_Paulo'),\n",
       " Row(codigo_ibge='3100203', nome='Abaeté', latitude='-19.1551', longitude='-45.4444', capital='0', codigo_uf='31', siafi_id='4003', ddd='37', fuso_horario='America/Sao_Paulo'),\n",
       " Row(codigo_ibge='1500107', nome='Abaetetuba', latitude='-1.72183', longitude='-48.8788', capital='0', codigo_uf='15', siafi_id='0401', ddd='91', fuso_horario='America/Sao_Paulo')]"
      ]
     },
     "execution_count": 8,
     "metadata": {},
     "output_type": "execute_result"
    }
   ],
   "source": [
    "df_municipios.take(5)"
   ]
  },
  {
   "cell_type": "code",
   "execution_count": 9,
   "id": "785b33ab-98c0-47ff-b756-b74cf771bbc8",
   "metadata": {
    "tags": []
   },
   "outputs": [],
   "source": [
    "# Transformando nosso DataFrame para PANDAS\n",
    "df_pandas_estados = df_estados.toPandas()\n",
    "df_pandas_municipios = df_municipios.toPandas()"
   ]
  },
  {
   "cell_type": "code",
   "execution_count": 10,
   "id": "fab1b146-b094-4097-b871-e25d81f454cd",
   "metadata": {
    "tags": []
   },
   "outputs": [
    {
     "data": {
      "text/html": [
       "<div>\n",
       "<style scoped>\n",
       "    .dataframe tbody tr th:only-of-type {\n",
       "        vertical-align: middle;\n",
       "    }\n",
       "\n",
       "    .dataframe tbody tr th {\n",
       "        vertical-align: top;\n",
       "    }\n",
       "\n",
       "    .dataframe thead th {\n",
       "        text-align: right;\n",
       "    }\n",
       "</style>\n",
       "<table border=\"1\" class=\"dataframe\">\n",
       "  <thead>\n",
       "    <tr style=\"text-align: right;\">\n",
       "      <th></th>\n",
       "      <th>codigo_uf</th>\n",
       "      <th>uf</th>\n",
       "      <th>nome</th>\n",
       "      <th>latitude</th>\n",
       "      <th>longitude</th>\n",
       "      <th>regiao</th>\n",
       "    </tr>\n",
       "  </thead>\n",
       "  <tbody>\n",
       "    <tr>\n",
       "      <th>0</th>\n",
       "      <td>11</td>\n",
       "      <td>RO</td>\n",
       "      <td>Rondônia</td>\n",
       "      <td>-10.83</td>\n",
       "      <td>-63.34</td>\n",
       "      <td>Norte</td>\n",
       "    </tr>\n",
       "    <tr>\n",
       "      <th>1</th>\n",
       "      <td>12</td>\n",
       "      <td>AC</td>\n",
       "      <td>Acre</td>\n",
       "      <td>-8.77</td>\n",
       "      <td>-70.55</td>\n",
       "      <td>Norte</td>\n",
       "    </tr>\n",
       "    <tr>\n",
       "      <th>2</th>\n",
       "      <td>13</td>\n",
       "      <td>AM</td>\n",
       "      <td>Amazonas</td>\n",
       "      <td>-3.47</td>\n",
       "      <td>-65.1</td>\n",
       "      <td>Norte</td>\n",
       "    </tr>\n",
       "    <tr>\n",
       "      <th>3</th>\n",
       "      <td>14</td>\n",
       "      <td>RR</td>\n",
       "      <td>Roraima</td>\n",
       "      <td>1.99</td>\n",
       "      <td>-61.33</td>\n",
       "      <td>Norte</td>\n",
       "    </tr>\n",
       "    <tr>\n",
       "      <th>4</th>\n",
       "      <td>15</td>\n",
       "      <td>PA</td>\n",
       "      <td>Pará</td>\n",
       "      <td>-3.79</td>\n",
       "      <td>-52.48</td>\n",
       "      <td>Norte</td>\n",
       "    </tr>\n",
       "  </tbody>\n",
       "</table>\n",
       "</div>"
      ],
      "text/plain": [
       "  codigo_uf  uf      nome latitude longitude regiao\n",
       "0        11  RO  Rondônia   -10.83    -63.34  Norte\n",
       "1        12  AC      Acre    -8.77    -70.55  Norte\n",
       "2        13  AM  Amazonas    -3.47     -65.1  Norte\n",
       "3        14  RR   Roraima     1.99    -61.33  Norte\n",
       "4        15  PA      Pará    -3.79    -52.48  Norte"
      ]
     },
     "execution_count": 10,
     "metadata": {},
     "output_type": "execute_result"
    }
   ],
   "source": [
    "df_pandas_estados.head(5)"
   ]
  },
  {
   "cell_type": "code",
   "execution_count": 11,
   "id": "fd95a981-da7a-4c33-b3ab-41f55af6a982",
   "metadata": {
    "tags": []
   },
   "outputs": [
    {
     "data": {
      "text/html": [
       "<div>\n",
       "<style scoped>\n",
       "    .dataframe tbody tr th:only-of-type {\n",
       "        vertical-align: middle;\n",
       "    }\n",
       "\n",
       "    .dataframe tbody tr th {\n",
       "        vertical-align: top;\n",
       "    }\n",
       "\n",
       "    .dataframe thead th {\n",
       "        text-align: right;\n",
       "    }\n",
       "</style>\n",
       "<table border=\"1\" class=\"dataframe\">\n",
       "  <thead>\n",
       "    <tr style=\"text-align: right;\">\n",
       "      <th></th>\n",
       "      <th>codigo_ibge</th>\n",
       "      <th>nome</th>\n",
       "      <th>latitude</th>\n",
       "      <th>longitude</th>\n",
       "      <th>capital</th>\n",
       "      <th>codigo_uf</th>\n",
       "      <th>siafi_id</th>\n",
       "      <th>ddd</th>\n",
       "      <th>fuso_horario</th>\n",
       "    </tr>\n",
       "  </thead>\n",
       "  <tbody>\n",
       "    <tr>\n",
       "      <th>0</th>\n",
       "      <td>5200050</td>\n",
       "      <td>Abadia de Goiás</td>\n",
       "      <td>-16.7573</td>\n",
       "      <td>-49.4412</td>\n",
       "      <td>0</td>\n",
       "      <td>52</td>\n",
       "      <td>1050</td>\n",
       "      <td>62</td>\n",
       "      <td>America/Sao_Paulo</td>\n",
       "    </tr>\n",
       "    <tr>\n",
       "      <th>1</th>\n",
       "      <td>3100104</td>\n",
       "      <td>Abadia dos Dourados</td>\n",
       "      <td>-18.4831</td>\n",
       "      <td>-47.3916</td>\n",
       "      <td>0</td>\n",
       "      <td>31</td>\n",
       "      <td>4001</td>\n",
       "      <td>34</td>\n",
       "      <td>America/Sao_Paulo</td>\n",
       "    </tr>\n",
       "    <tr>\n",
       "      <th>2</th>\n",
       "      <td>5200100</td>\n",
       "      <td>Abadiânia</td>\n",
       "      <td>-16.197</td>\n",
       "      <td>-48.7057</td>\n",
       "      <td>0</td>\n",
       "      <td>52</td>\n",
       "      <td>9201</td>\n",
       "      <td>62</td>\n",
       "      <td>America/Sao_Paulo</td>\n",
       "    </tr>\n",
       "    <tr>\n",
       "      <th>3</th>\n",
       "      <td>3100203</td>\n",
       "      <td>Abaeté</td>\n",
       "      <td>-19.1551</td>\n",
       "      <td>-45.4444</td>\n",
       "      <td>0</td>\n",
       "      <td>31</td>\n",
       "      <td>4003</td>\n",
       "      <td>37</td>\n",
       "      <td>America/Sao_Paulo</td>\n",
       "    </tr>\n",
       "    <tr>\n",
       "      <th>4</th>\n",
       "      <td>1500107</td>\n",
       "      <td>Abaetetuba</td>\n",
       "      <td>-1.72183</td>\n",
       "      <td>-48.8788</td>\n",
       "      <td>0</td>\n",
       "      <td>15</td>\n",
       "      <td>0401</td>\n",
       "      <td>91</td>\n",
       "      <td>America/Sao_Paulo</td>\n",
       "    </tr>\n",
       "  </tbody>\n",
       "</table>\n",
       "</div>"
      ],
      "text/plain": [
       "  codigo_ibge                 nome  latitude longitude capital codigo_uf  \\\n",
       "0     5200050      Abadia de Goiás  -16.7573  -49.4412       0        52   \n",
       "1     3100104  Abadia dos Dourados  -18.4831  -47.3916       0        31   \n",
       "2     5200100            Abadiânia   -16.197  -48.7057       0        52   \n",
       "3     3100203               Abaeté  -19.1551  -45.4444       0        31   \n",
       "4     1500107           Abaetetuba  -1.72183  -48.8788       0        15   \n",
       "\n",
       "  siafi_id ddd       fuso_horario  \n",
       "0     1050  62  America/Sao_Paulo  \n",
       "1     4001  34  America/Sao_Paulo  \n",
       "2     9201  62  America/Sao_Paulo  \n",
       "3     4003  37  America/Sao_Paulo  \n",
       "4     0401  91  America/Sao_Paulo  "
      ]
     },
     "execution_count": 11,
     "metadata": {},
     "output_type": "execute_result"
    }
   ],
   "source": [
    "df_pandas_municipios.head(5)"
   ]
  },
  {
   "cell_type": "code",
   "execution_count": 12,
   "id": "72c133de-61c4-4b80-b881-2d96b0958eba",
   "metadata": {
    "tags": []
   },
   "outputs": [],
   "source": [
    "csv_path = 'exercicios/municipios-estados/csv/'\n",
    "total_path = 'exercicios/municipios-estados/tarefa-08/'"
   ]
  },
  {
   "cell_type": "code",
   "execution_count": 13,
   "id": "d3cb5daa-6a3d-495c-9193-13c8b9d61e9f",
   "metadata": {
    "tags": []
   },
   "outputs": [],
   "source": [
    "# Importar CSVs e salvar como arquivos JSON\n",
    "csv_files = os.listdir(csv_path)\n",
    "csv_files = [f for f in csv_files if f.endswith('.csv')]\n",
    "for csv_file in csv_files:\n",
    "    df = pd.read_csv(os.path.join(csv_path, csv_file))\n",
    "    json_file = csv_file.replace('.csv', '.json')\n",
    "    df.to_json(os.path.join(total_path, json_file), orient='records')"
   ]
  },
  {
   "cell_type": "code",
   "execution_count": 14,
   "id": "2ef8334e-8820-4519-be3f-206b58585e6b",
   "metadata": {
    "tags": []
   },
   "outputs": [],
   "source": [
    "# Importar JSONs e salvar como arquivos CSV\n",
    "json_files = os.listdir(total_path)\n",
    "json_files = [f for f in json_files if f.endswith('.json')]\n",
    "for json_file in json_files:\n",
    "    df = pd.read_json(os.path.join(total_path, json_file), orient='records')\n",
    "    csv_file = json_file.replace('.json', '.csv')\n",
    "    df.to_csv(os.path.join(total_path, csv_file), index=False)"
   ]
  },
  {
   "cell_type": "code",
   "execution_count": 15,
   "id": "80364f9a-3055-429a-b6e8-1decebc61213",
   "metadata": {
    "tags": []
   },
   "outputs": [],
   "source": [
    "# Importar CSVs e salvar como arquivos Parquet\n",
    "csv_files = os.listdir(csv_path)\n",
    "csv_files = [f for f in csv_files if f.endswith('.csv')]\n",
    "for csv_file in csv_files:\n",
    "    df = pd.read_csv(os.path.join(csv_path, csv_file))\n",
    "    parquet_file = csv_file.replace('.csv', '.parquet')\n",
    "    table = pa.Table.from_pandas(df)\n",
    "    pq.write_table(table, os.path.join(total_path, parquet_file))"
   ]
  },
  {
   "cell_type": "code",
   "execution_count": 16,
   "id": "7d559848-c567-48e2-a857-c3c58c8f4a0e",
   "metadata": {
    "tags": []
   },
   "outputs": [],
   "source": [
    "# lista todos os arquivos na pasta de origem\n",
    "for root, dirs, files in os.walk(total_path):\n",
    "    for file in files:\n",
    "        # obtém o caminho completo do arquivo\n",
    "        file_path = os.path.join(root, file)\n",
    "        \n",
    "        # define o nome do objeto no bucket (pode ser igual ao nome do arquivo)\n",
    "        object_name = file\n",
    "        \n",
    "        # faz upload do arquivo para o bucket\n",
    "        with open(file_path, \"rb\") as f:\n",
    "            client.upload_fileobj(f, \"aula-08\", object_name)"
   ]
  },
  {
   "cell_type": "code",
   "execution_count": 17,
   "id": "5c01e3fa-8aad-401a-9590-408b7511ba4b",
   "metadata": {
    "tags": []
   },
   "outputs": [],
   "source": [
    "# Salvar dataframes como arquivos JSON no MinIO\n",
    "#df_estados_local.write.format(\"json\").save(\"s3a://aula-08/municipios-estados/csv/estados.json\")\n",
    "#df_municipios_local.write.format(\"json\").save(\"s3a://aula-08/municipios-estados/csv/municipios.json\")\n",
    "\n",
    "# Importar JSONs do MinIO como dataframes do Spark\n",
    "#df_estados_json = spark.read.option(\"header\", True).json(\"s3a://aula-08/municipios-estados/csv/estados.json\")\n",
    "#df_municipios_json = spark.read.option(\"header\", True).json(\"s3a://aula-08/municipios-estados/csv/municipios.json\")\n",
    "\n",
    "# Salvar dataframes como arquivos CSV no MinIO\n",
    "#df_estados_json.write.format(\"csv\").option(\"header\", True).save(\"s3a://aula-08/municipios-estados/csv/estados.csv\")\n",
    "#df_municipios_json.write.format(\"csv\").option(\"header\", True).save(\"s3a://aula-08/municipios-estados/csv/municipios.csv\")\n",
    "\n",
    "# Importar CSVs do MinIO como dataframes do Spark\n",
    "#df_estados_csv = spark.read.option(\"header\", True).csv(\"s3a://aula-08/municipios-estados/csv/estados.csv\")\n",
    "#df_municipios_csv = spark.read.option(\"header\", True).csv(\"s3a://aula-08/municipios-estados/csv/municipios.csv\")\n",
    "\n",
    "# Salvar dataframes como arquivos .parquet no MinIO\n",
    "#df_estados_csv.write.save(\"s3a://aula-08/municipios-estados/parquet/estados.parquet\")\n",
    "#df_municipios_csv.write.save(\"s3a://aula-08/municipios-estados/parquet/municipios.parquet\")"
   ]
  },
  {
   "cell_type": "code",
   "execution_count": 20,
   "id": "c08676de-61fd-45a8-b56d-5e293ee034d6",
   "metadata": {
    "tags": []
   },
   "outputs": [
    {
     "ename": "DuplicateTable",
     "evalue": "relation \"estados\" already exists\n",
     "output_type": "error",
     "traceback": [
      "\u001b[0;31m---------------------------------------------------------------------------\u001b[0m",
      "\u001b[0;31mDuplicateTable\u001b[0m                            Traceback (most recent call last)",
      "Cell \u001b[0;32mIn[20], line 20\u001b[0m\n\u001b[1;32m     17\u001b[0m \u001b[38;5;66;03m# Inserir os dados do DataFrame no PostgreSQL\u001b[39;00m\n\u001b[1;32m     18\u001b[0m \u001b[38;5;28;01mwith\u001b[39;00m conn\u001b[38;5;241m.\u001b[39mcursor() \u001b[38;5;28;01mas\u001b[39;00m cur:\n\u001b[1;32m     19\u001b[0m     \u001b[38;5;66;03m# Inserir os dados do DataFrame de estados\u001b[39;00m\n\u001b[0;32m---> 20\u001b[0m     \u001b[43mcur\u001b[49m\u001b[38;5;241;43m.\u001b[39;49m\u001b[43mexecute\u001b[49m\u001b[43m(\u001b[49m\u001b[38;5;124;43m\"\"\"\u001b[39;49m\n\u001b[1;32m     21\u001b[0m \u001b[38;5;124;43m        CREATE TABLE estados (\u001b[39;49m\n\u001b[1;32m     22\u001b[0m \u001b[38;5;124;43m            codigo_uf INTEGER PRIMARY KEY,\u001b[39;49m\n\u001b[1;32m     23\u001b[0m \u001b[38;5;124;43m            uf TEXT,\u001b[39;49m\n\u001b[1;32m     24\u001b[0m \u001b[38;5;124;43m            nome TEXT\u001b[39;49m\n\u001b[1;32m     25\u001b[0m \u001b[38;5;124;43m        );\u001b[39;49m\n\u001b[1;32m     26\u001b[0m \u001b[38;5;124;43m    \u001b[39;49m\u001b[38;5;124;43m\"\"\"\u001b[39;49m\u001b[43m)\u001b[49m\n\u001b[1;32m     27\u001b[0m     \u001b[38;5;28;01mfor\u001b[39;00m row \u001b[38;5;129;01min\u001b[39;00m df_estados\u001b[38;5;241m.\u001b[39mitertuples(index\u001b[38;5;241m=\u001b[39m\u001b[38;5;28;01mFalse\u001b[39;00m):\n\u001b[1;32m     28\u001b[0m         cur\u001b[38;5;241m.\u001b[39mexecute(\u001b[38;5;124m\"\"\"\u001b[39m\n\u001b[1;32m     29\u001b[0m \u001b[38;5;124m            INSERT INTO estados (codigo_uf, uf, nome) VALUES (\u001b[39m\u001b[38;5;132;01m%s\u001b[39;00m\u001b[38;5;124m, \u001b[39m\u001b[38;5;132;01m%s\u001b[39;00m\u001b[38;5;124m, \u001b[39m\u001b[38;5;132;01m%s\u001b[39;00m\u001b[38;5;124m);\u001b[39m\n\u001b[1;32m     30\u001b[0m \u001b[38;5;124m        \u001b[39m\u001b[38;5;124m\"\"\"\u001b[39m, (row\u001b[38;5;241m.\u001b[39mcodigo_uf, row\u001b[38;5;241m.\u001b[39muf, row\u001b[38;5;241m.\u001b[39mnome))\n",
      "\u001b[0;31mDuplicateTable\u001b[0m: relation \"estados\" already exists\n"
     ]
    }
   ],
   "source": [
    "# Configurar as credenciais do banco de dados\n",
    "db_config = {\n",
    "    'user': 'postgres',\n",
    "    'password': 'postgres',\n",
    "    'host': '172.18.0.6',\n",
    "    'port': 5432,\n",
    "    'database': 'awari_imdb'\n",
    "}\n",
    "\n",
    "# Conectar ao banco de dados\n",
    "conn = psycopg2.connect(**db_config)\n",
    "\n",
    "# Ler o arquivo CSV para um DataFrame pandas\n",
    "df_estados = pd.read_csv('exercicios/municipios-estados/csv/estados.csv')\n",
    "df_municipios = pd.read_csv('exercicios/municipios-estados/csv/municipios.csv')\n",
    "\n",
    "# Inserir os dados do DataFrame no PostgreSQL\n",
    "with conn.cursor() as cur:\n",
    "    # Inserir os dados do DataFrame de estados\n",
    "    cur.execute(\"\"\"\n",
    "        CREATE TABLE estados (\n",
    "            codigo_uf INTEGER PRIMARY KEY,\n",
    "            uf TEXT,\n",
    "            nome TEXT\n",
    "        );\n",
    "    \"\"\")\n",
    "    for row in df_estados.itertuples(index=False):\n",
    "        cur.execute(\"\"\"\n",
    "            INSERT INTO estados (codigo_uf, uf, nome) VALUES (%s, %s, %s);\n",
    "        \"\"\", (row.codigo_uf, row.uf, row.nome))\n",
    "        \n",
    "    # Inserir os dados do DataFrame de municipios\n",
    "    cur.execute(\"\"\"\n",
    "        CREATE TABLE municipios (\n",
    "            codigo_ibge INTEGER PRIMARY KEY,\n",
    "            nome TEXT,\n",
    "            codigo_uf INTEGER,\n",
    "            FOREIGN KEY (codigo_uf) REFERENCES estados(codigo_uf)\n",
    "        );\n",
    "    \"\"\")\n",
    "    for row in df_municipios.itertuples(index=False):\n",
    "        cur.execute(\"\"\"\n",
    "            INSERT INTO municipios (codigo_ibge, nome, codigo_uf) VALUES (%s, %s, %s);\n",
    "        \"\"\", (row.codigo_ibge, row.nome, row.codigo_uf))\n",
    "        \n",
    "    # Commit as transações\n",
    "    conn.commit()\n",
    "\n",
    "# Fechar a conexão com o banco de dados\n",
    "conn.close()"
   ]
  },
  {
   "cell_type": "code",
   "execution_count": 22,
   "id": "b12e8bc0-d46c-4fd0-968b-c5d9e435fff9",
   "metadata": {
    "tags": []
   },
   "outputs": [],
   "source": [
    "#df_estados_csv = spark.read.option(\"header\", True).csv(\"s3a://aula-08/municipios-estados/csv/estados.csv\")\n",
    "#print(df_estados.show(), df_estados.printSchema())"
   ]
  },
  {
   "cell_type": "code",
   "execution_count": 23,
   "id": "fc882bed-b269-4a67-8f19-430af74b004a",
   "metadata": {
    "tags": []
   },
   "outputs": [],
   "source": [
    "#df_municipios_csv = spark.read.option(\"header\", True).csv(\"s3a://aula-08/municipios-estados/csv/municipios.csv\")\n",
    "#print(df_municipios.show(), df_municipios.printSchema())"
   ]
  },
  {
   "cell_type": "code",
   "execution_count": 24,
   "id": "b0655323-f180-48c4-927c-4f57afbd977a",
   "metadata": {
    "tags": []
   },
   "outputs": [],
   "source": [
    "# df_estado_json = df_estado.select(to_json(struct(df_estado.columns)).alias(\"json\"))\n",
    "# df_municipio_json = df_municipio.select(to_json(struct(df_municipio.columns)).alias(\"json\"))"
   ]
  },
  {
   "cell_type": "code",
   "execution_count": null,
   "id": "efc27574-8d67-4cbb-8780-b5ee8f53b07c",
   "metadata": {},
   "outputs": [],
   "source": []
  }
 ],
 "metadata": {
  "kernelspec": {
   "display_name": "Python 3 (ipykernel)",
   "language": "python",
   "name": "python3"
  },
  "language_info": {
   "codemirror_mode": {
    "name": "ipython",
    "version": 3
   },
   "file_extension": ".py",
   "mimetype": "text/x-python",
   "name": "python",
   "nbconvert_exporter": "python",
   "pygments_lexer": "ipython3",
   "version": "3.10.9"
  }
 },
 "nbformat": 4,
 "nbformat_minor": 5
}
