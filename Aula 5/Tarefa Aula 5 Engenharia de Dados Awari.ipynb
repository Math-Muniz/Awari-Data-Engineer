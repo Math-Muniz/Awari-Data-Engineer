{
  "nbformat": 4,
  "nbformat_minor": 0,
  "metadata": {
    "colab": {
      "provenance": []
    },
    "kernelspec": {
      "name": "python3",
      "display_name": "Python 3"
    },
    "language_info": {
      "name": "python"
    }
  },
  "cells": [
    {
      "cell_type": "markdown",
      "source": [
        "# Tarefa: Top Youtubers\n",
        "Esta é a tarefa proposta para a 5ª aula do curso de Engenharia de Dados da Awari. Siga as instruções para desenvolvê-la e entregá-la.\n",
        "\n",
        "# O que fazer?\n",
        "A atividade vai ao encontro do que foi visto em aula, sobre tratamento e limpeza de dados usando Pandas. O passo a passo consiste em:\n",
        "\n",
        "1. Fazer download do dataset Top Youtube Artists, do Kaggle. \n",
        "2. Tratar as colunas sem informação adicionando o texto “Não informado”.\n",
        "3. Formatar a coluna de total de inscritos multiplicando por 100 milhões.\n",
        "4. Formatar coluna “AVG” para 2 casas decimais depois da vírgula.\n",
        "5. Mostrar os top 10 usuários.\n",
        "6. Mostrar primeiros 100 usuários por nome decrescente.\n",
        "7. Salvar um novo CSV com a informação tratada."
      ],
      "metadata": {
        "id": "s5hYVliaJ0Fq"
      }
    },
    {
      "cell_type": "markdown",
      "source": [
        "## Fazer import do dataset Top Youtube Artists, do Kaggle."
      ],
      "metadata": {
        "id": "YtkRGfEZKTDl"
      }
    },
    {
      "cell_type": "code",
      "source": [
        "import pandas as pd"
      ],
      "metadata": {
        "id": "SEGP4KvtImTm"
      },
      "execution_count": 69,
      "outputs": []
    },
    {
      "cell_type": "code",
      "execution_count": 70,
      "metadata": {
        "id": "XUvAEPY8ICs_"
      },
      "outputs": [],
      "source": [
        "df = pd.read_csv('topyoutube.csv')"
      ]
    },
    {
      "cell_type": "code",
      "source": [
        "df"
      ],
      "metadata": {
        "colab": {
          "base_uri": "https://localhost:8080/",
          "height": 424
        },
        "id": "r4wjKvOSIp2T",
        "outputId": "c2765d12-1dfb-4425-d280-84b7efd89f78"
      },
      "execution_count": 71,
      "outputs": [
        {
          "output_type": "execute_result",
          "data": {
            "text/plain": [
              "               Artist Total Views  100M     Avg\n",
              "0                 BTS    27,947.9  63.0   7.370\n",
              "1           Bad Bunny    27,573.4  66.0  14.555\n",
              "2       Justin Bieber    27,399.7  37.0   3.986\n",
              "3          Ed Sheeran    26,894.0  39.0   4.609\n",
              "4        Taylor Swift    24,350.0  38.0   5.716\n",
              "...               ...         ...   ...     ...\n",
              "1582  Pietro Lombardi       204.1   NaN   0.022\n",
              "1583            Duffy       203.2   NaN   0.020\n",
              "1584          Psirico       201.1   1.0   0.039\n",
              "1585       Alex Clare       200.8   NaN   0.020\n",
              "1586       The Avener       200.5   NaN   0.036\n",
              "\n",
              "[1587 rows x 4 columns]"
            ],
            "text/html": [
              "\n",
              "  <div id=\"df-a7cea6fe-56ae-4258-822b-f15fad8a07a6\">\n",
              "    <div class=\"colab-df-container\">\n",
              "      <div>\n",
              "<style scoped>\n",
              "    .dataframe tbody tr th:only-of-type {\n",
              "        vertical-align: middle;\n",
              "    }\n",
              "\n",
              "    .dataframe tbody tr th {\n",
              "        vertical-align: top;\n",
              "    }\n",
              "\n",
              "    .dataframe thead th {\n",
              "        text-align: right;\n",
              "    }\n",
              "</style>\n",
              "<table border=\"1\" class=\"dataframe\">\n",
              "  <thead>\n",
              "    <tr style=\"text-align: right;\">\n",
              "      <th></th>\n",
              "      <th>Artist</th>\n",
              "      <th>Total Views</th>\n",
              "      <th>100M</th>\n",
              "      <th>Avg</th>\n",
              "    </tr>\n",
              "  </thead>\n",
              "  <tbody>\n",
              "    <tr>\n",
              "      <th>0</th>\n",
              "      <td>BTS</td>\n",
              "      <td>27,947.9</td>\n",
              "      <td>63.0</td>\n",
              "      <td>7.370</td>\n",
              "    </tr>\n",
              "    <tr>\n",
              "      <th>1</th>\n",
              "      <td>Bad Bunny</td>\n",
              "      <td>27,573.4</td>\n",
              "      <td>66.0</td>\n",
              "      <td>14.555</td>\n",
              "    </tr>\n",
              "    <tr>\n",
              "      <th>2</th>\n",
              "      <td>Justin Bieber</td>\n",
              "      <td>27,399.7</td>\n",
              "      <td>37.0</td>\n",
              "      <td>3.986</td>\n",
              "    </tr>\n",
              "    <tr>\n",
              "      <th>3</th>\n",
              "      <td>Ed Sheeran</td>\n",
              "      <td>26,894.0</td>\n",
              "      <td>39.0</td>\n",
              "      <td>4.609</td>\n",
              "    </tr>\n",
              "    <tr>\n",
              "      <th>4</th>\n",
              "      <td>Taylor Swift</td>\n",
              "      <td>24,350.0</td>\n",
              "      <td>38.0</td>\n",
              "      <td>5.716</td>\n",
              "    </tr>\n",
              "    <tr>\n",
              "      <th>...</th>\n",
              "      <td>...</td>\n",
              "      <td>...</td>\n",
              "      <td>...</td>\n",
              "      <td>...</td>\n",
              "    </tr>\n",
              "    <tr>\n",
              "      <th>1582</th>\n",
              "      <td>Pietro Lombardi</td>\n",
              "      <td>204.1</td>\n",
              "      <td>NaN</td>\n",
              "      <td>0.022</td>\n",
              "    </tr>\n",
              "    <tr>\n",
              "      <th>1583</th>\n",
              "      <td>Duffy</td>\n",
              "      <td>203.2</td>\n",
              "      <td>NaN</td>\n",
              "      <td>0.020</td>\n",
              "    </tr>\n",
              "    <tr>\n",
              "      <th>1584</th>\n",
              "      <td>Psirico</td>\n",
              "      <td>201.1</td>\n",
              "      <td>1.0</td>\n",
              "      <td>0.039</td>\n",
              "    </tr>\n",
              "    <tr>\n",
              "      <th>1585</th>\n",
              "      <td>Alex Clare</td>\n",
              "      <td>200.8</td>\n",
              "      <td>NaN</td>\n",
              "      <td>0.020</td>\n",
              "    </tr>\n",
              "    <tr>\n",
              "      <th>1586</th>\n",
              "      <td>The Avener</td>\n",
              "      <td>200.5</td>\n",
              "      <td>NaN</td>\n",
              "      <td>0.036</td>\n",
              "    </tr>\n",
              "  </tbody>\n",
              "</table>\n",
              "<p>1587 rows × 4 columns</p>\n",
              "</div>\n",
              "      <button class=\"colab-df-convert\" onclick=\"convertToInteractive('df-a7cea6fe-56ae-4258-822b-f15fad8a07a6')\"\n",
              "              title=\"Convert this dataframe to an interactive table.\"\n",
              "              style=\"display:none;\">\n",
              "        \n",
              "  <svg xmlns=\"http://www.w3.org/2000/svg\" height=\"24px\"viewBox=\"0 0 24 24\"\n",
              "       width=\"24px\">\n",
              "    <path d=\"M0 0h24v24H0V0z\" fill=\"none\"/>\n",
              "    <path d=\"M18.56 5.44l.94 2.06.94-2.06 2.06-.94-2.06-.94-.94-2.06-.94 2.06-2.06.94zm-11 1L8.5 8.5l.94-2.06 2.06-.94-2.06-.94L8.5 2.5l-.94 2.06-2.06.94zm10 10l.94 2.06.94-2.06 2.06-.94-2.06-.94-.94-2.06-.94 2.06-2.06.94z\"/><path d=\"M17.41 7.96l-1.37-1.37c-.4-.4-.92-.59-1.43-.59-.52 0-1.04.2-1.43.59L10.3 9.45l-7.72 7.72c-.78.78-.78 2.05 0 2.83L4 21.41c.39.39.9.59 1.41.59.51 0 1.02-.2 1.41-.59l7.78-7.78 2.81-2.81c.8-.78.8-2.07 0-2.86zM5.41 20L4 18.59l7.72-7.72 1.47 1.35L5.41 20z\"/>\n",
              "  </svg>\n",
              "      </button>\n",
              "      \n",
              "  <style>\n",
              "    .colab-df-container {\n",
              "      display:flex;\n",
              "      flex-wrap:wrap;\n",
              "      gap: 12px;\n",
              "    }\n",
              "\n",
              "    .colab-df-convert {\n",
              "      background-color: #E8F0FE;\n",
              "      border: none;\n",
              "      border-radius: 50%;\n",
              "      cursor: pointer;\n",
              "      display: none;\n",
              "      fill: #1967D2;\n",
              "      height: 32px;\n",
              "      padding: 0 0 0 0;\n",
              "      width: 32px;\n",
              "    }\n",
              "\n",
              "    .colab-df-convert:hover {\n",
              "      background-color: #E2EBFA;\n",
              "      box-shadow: 0px 1px 2px rgba(60, 64, 67, 0.3), 0px 1px 3px 1px rgba(60, 64, 67, 0.15);\n",
              "      fill: #174EA6;\n",
              "    }\n",
              "\n",
              "    [theme=dark] .colab-df-convert {\n",
              "      background-color: #3B4455;\n",
              "      fill: #D2E3FC;\n",
              "    }\n",
              "\n",
              "    [theme=dark] .colab-df-convert:hover {\n",
              "      background-color: #434B5C;\n",
              "      box-shadow: 0px 1px 3px 1px rgba(0, 0, 0, 0.15);\n",
              "      filter: drop-shadow(0px 1px 2px rgba(0, 0, 0, 0.3));\n",
              "      fill: #FFFFFF;\n",
              "    }\n",
              "  </style>\n",
              "\n",
              "      <script>\n",
              "        const buttonEl =\n",
              "          document.querySelector('#df-a7cea6fe-56ae-4258-822b-f15fad8a07a6 button.colab-df-convert');\n",
              "        buttonEl.style.display =\n",
              "          google.colab.kernel.accessAllowed ? 'block' : 'none';\n",
              "\n",
              "        async function convertToInteractive(key) {\n",
              "          const element = document.querySelector('#df-a7cea6fe-56ae-4258-822b-f15fad8a07a6');\n",
              "          const dataTable =\n",
              "            await google.colab.kernel.invokeFunction('convertToInteractive',\n",
              "                                                     [key], {});\n",
              "          if (!dataTable) return;\n",
              "\n",
              "          const docLinkHtml = 'Like what you see? Visit the ' +\n",
              "            '<a target=\"_blank\" href=https://colab.research.google.com/notebooks/data_table.ipynb>data table notebook</a>'\n",
              "            + ' to learn more about interactive tables.';\n",
              "          element.innerHTML = '';\n",
              "          dataTable['output_type'] = 'display_data';\n",
              "          await google.colab.output.renderOutput(dataTable, element);\n",
              "          const docLink = document.createElement('div');\n",
              "          docLink.innerHTML = docLinkHtml;\n",
              "          element.appendChild(docLink);\n",
              "        }\n",
              "      </script>\n",
              "    </div>\n",
              "  </div>\n",
              "  "
            ]
          },
          "metadata": {},
          "execution_count": 71
        }
      ]
    },
    {
      "cell_type": "markdown",
      "source": [
        "## Tratar as colunas sem informação adicionando o texto “Não informado”."
      ],
      "metadata": {
        "id": "3-jIr7aUKLwc"
      }
    },
    {
      "cell_type": "code",
      "source": [
        "df.isnull().sum()"
      ],
      "metadata": {
        "colab": {
          "base_uri": "https://localhost:8080/"
        },
        "id": "A-ED3Zm6I6w4",
        "outputId": "39f88955-3910-43c0-8ec3-4762bbfb0242"
      },
      "execution_count": 72,
      "outputs": [
        {
          "output_type": "execute_result",
          "data": {
            "text/plain": [
              "Artist           0\n",
              "Total Views      0\n",
              "100M           171\n",
              "Avg              0\n",
              "dtype: int64"
            ]
          },
          "metadata": {},
          "execution_count": 72
        }
      ]
    },
    {
      "cell_type": "code",
      "source": [
        "df.fillna('Não informado', inplace=True)"
      ],
      "metadata": {
        "id": "gP1BtONWJqTd"
      },
      "execution_count": 73,
      "outputs": []
    },
    {
      "cell_type": "code",
      "source": [
        "df.isnull().sum()"
      ],
      "metadata": {
        "colab": {
          "base_uri": "https://localhost:8080/"
        },
        "id": "DQPUAaYrQgQK",
        "outputId": "45a8beeb-b15d-4f17-c2b9-befbe252aae0"
      },
      "execution_count": 85,
      "outputs": [
        {
          "output_type": "execute_result",
          "data": {
            "text/plain": [
              "Artist         0\n",
              "Total Views    0\n",
              "100M           0\n",
              "Avg            0\n",
              "dtype: int64"
            ]
          },
          "metadata": {},
          "execution_count": 85
        }
      ]
    },
    {
      "cell_type": "markdown",
      "source": [
        "## Formatar a coluna de total de inscritos multiplicando por 100 milhões."
      ],
      "metadata": {
        "id": "Ax8ZkWktKNvt"
      }
    },
    {
      "cell_type": "code",
      "source": [
        "df['Total Views']"
      ],
      "metadata": {
        "colab": {
          "base_uri": "https://localhost:8080/"
        },
        "id": "ESTGvTfhJxNd",
        "outputId": "820d1c37-36bd-4e2d-887c-44bdf8941ea6"
      },
      "execution_count": 74,
      "outputs": [
        {
          "output_type": "execute_result",
          "data": {
            "text/plain": [
              "0       27,947.9\n",
              "1       27,573.4\n",
              "2       27,399.7\n",
              "3       26,894.0\n",
              "4       24,350.0\n",
              "          ...   \n",
              "1582       204.1\n",
              "1583       203.2\n",
              "1584       201.1\n",
              "1585       200.8\n",
              "1586       200.5\n",
              "Name: Total Views, Length: 1587, dtype: object"
            ]
          },
          "metadata": {},
          "execution_count": 74
        }
      ]
    },
    {
      "cell_type": "markdown",
      "source": [
        "Podemos analisar que a coluna está no formato de object e isso impede que a gente possa multiplicar diretamente por 100 milhões então vamos tratar ela para o formato float para podermos multiplicar os valores da coluna corretamente."
      ],
      "metadata": {
        "id": "NaPZF0D8OL_9"
      }
    },
    {
      "cell_type": "code",
      "source": [
        "df1 = df['Total Views'].str.replace(',', '')"
      ],
      "metadata": {
        "id": "gLDxv5_oKx38"
      },
      "execution_count": 75,
      "outputs": []
    },
    {
      "cell_type": "markdown",
      "source": [
        "Primeiro vamos retirar a virgula que está nos atrapalhando na hora de converter a coluna para float."
      ],
      "metadata": {
        "id": "76fTGodROjl5"
      }
    },
    {
      "cell_type": "code",
      "source": [
        "df1"
      ],
      "metadata": {
        "colab": {
          "base_uri": "https://localhost:8080/"
        },
        "id": "WJlnDsMYMyMK",
        "outputId": "d1443889-395e-4adc-8df2-2851c83bc275"
      },
      "execution_count": 76,
      "outputs": [
        {
          "output_type": "execute_result",
          "data": {
            "text/plain": [
              "0       27947.9\n",
              "1       27573.4\n",
              "2       27399.7\n",
              "3       26894.0\n",
              "4       24350.0\n",
              "         ...   \n",
              "1582      204.1\n",
              "1583      203.2\n",
              "1584      201.1\n",
              "1585      200.8\n",
              "1586      200.5\n",
              "Name: Total Views, Length: 1587, dtype: object"
            ]
          },
          "metadata": {},
          "execution_count": 76
        }
      ]
    },
    {
      "cell_type": "markdown",
      "source": [
        "Agora vamos finalmente transformar nossa coluna para float para assim podermos multiplicar os valores."
      ],
      "metadata": {
        "id": "gUN7SATVOvew"
      }
    },
    {
      "cell_type": "code",
      "source": [
        "df1 = df1.astype(float)"
      ],
      "metadata": {
        "id": "3ZYPRBz2Mo_6"
      },
      "execution_count": 77,
      "outputs": []
    },
    {
      "cell_type": "code",
      "source": [
        "df1"
      ],
      "metadata": {
        "colab": {
          "base_uri": "https://localhost:8080/"
        },
        "id": "AkL-cC2yK7V7",
        "outputId": "b096978a-b968-4fd7-84da-f62d559f903e"
      },
      "execution_count": 78,
      "outputs": [
        {
          "output_type": "execute_result",
          "data": {
            "text/plain": [
              "0       27947.9\n",
              "1       27573.4\n",
              "2       27399.7\n",
              "3       26894.0\n",
              "4       24350.0\n",
              "         ...   \n",
              "1582      204.1\n",
              "1583      203.2\n",
              "1584      201.1\n",
              "1585      200.8\n",
              "1586      200.5\n",
              "Name: Total Views, Length: 1587, dtype: float64"
            ]
          },
          "metadata": {},
          "execution_count": 78
        }
      ]
    },
    {
      "cell_type": "code",
      "source": [
        "df['Total Views'] = df1 * 100000000"
      ],
      "metadata": {
        "id": "Ph8Nc0USNyVC"
      },
      "execution_count": 79,
      "outputs": []
    },
    {
      "cell_type": "code",
      "source": [
        "df"
      ],
      "metadata": {
        "colab": {
          "base_uri": "https://localhost:8080/",
          "height": 424
        },
        "id": "T0Hc4j52OH_T",
        "outputId": "2cd662a4-919b-4062-b349-c16a0f3f5e76"
      },
      "execution_count": 80,
      "outputs": [
        {
          "output_type": "execute_result",
          "data": {
            "text/plain": [
              "               Artist   Total Views           100M     Avg\n",
              "0                 BTS  2.794790e+12           63.0   7.370\n",
              "1           Bad Bunny  2.757340e+12           66.0  14.555\n",
              "2       Justin Bieber  2.739970e+12           37.0   3.986\n",
              "3          Ed Sheeran  2.689400e+12           39.0   4.609\n",
              "4        Taylor Swift  2.435000e+12           38.0   5.716\n",
              "...               ...           ...            ...     ...\n",
              "1582  Pietro Lombardi  2.041000e+10  Não informado   0.022\n",
              "1583            Duffy  2.032000e+10  Não informado   0.020\n",
              "1584          Psirico  2.011000e+10            1.0   0.039\n",
              "1585       Alex Clare  2.008000e+10  Não informado   0.020\n",
              "1586       The Avener  2.005000e+10  Não informado   0.036\n",
              "\n",
              "[1587 rows x 4 columns]"
            ],
            "text/html": [
              "\n",
              "  <div id=\"df-b2490697-4fbd-45c0-aa65-11512316c1d0\">\n",
              "    <div class=\"colab-df-container\">\n",
              "      <div>\n",
              "<style scoped>\n",
              "    .dataframe tbody tr th:only-of-type {\n",
              "        vertical-align: middle;\n",
              "    }\n",
              "\n",
              "    .dataframe tbody tr th {\n",
              "        vertical-align: top;\n",
              "    }\n",
              "\n",
              "    .dataframe thead th {\n",
              "        text-align: right;\n",
              "    }\n",
              "</style>\n",
              "<table border=\"1\" class=\"dataframe\">\n",
              "  <thead>\n",
              "    <tr style=\"text-align: right;\">\n",
              "      <th></th>\n",
              "      <th>Artist</th>\n",
              "      <th>Total Views</th>\n",
              "      <th>100M</th>\n",
              "      <th>Avg</th>\n",
              "    </tr>\n",
              "  </thead>\n",
              "  <tbody>\n",
              "    <tr>\n",
              "      <th>0</th>\n",
              "      <td>BTS</td>\n",
              "      <td>2.794790e+12</td>\n",
              "      <td>63.0</td>\n",
              "      <td>7.370</td>\n",
              "    </tr>\n",
              "    <tr>\n",
              "      <th>1</th>\n",
              "      <td>Bad Bunny</td>\n",
              "      <td>2.757340e+12</td>\n",
              "      <td>66.0</td>\n",
              "      <td>14.555</td>\n",
              "    </tr>\n",
              "    <tr>\n",
              "      <th>2</th>\n",
              "      <td>Justin Bieber</td>\n",
              "      <td>2.739970e+12</td>\n",
              "      <td>37.0</td>\n",
              "      <td>3.986</td>\n",
              "    </tr>\n",
              "    <tr>\n",
              "      <th>3</th>\n",
              "      <td>Ed Sheeran</td>\n",
              "      <td>2.689400e+12</td>\n",
              "      <td>39.0</td>\n",
              "      <td>4.609</td>\n",
              "    </tr>\n",
              "    <tr>\n",
              "      <th>4</th>\n",
              "      <td>Taylor Swift</td>\n",
              "      <td>2.435000e+12</td>\n",
              "      <td>38.0</td>\n",
              "      <td>5.716</td>\n",
              "    </tr>\n",
              "    <tr>\n",
              "      <th>...</th>\n",
              "      <td>...</td>\n",
              "      <td>...</td>\n",
              "      <td>...</td>\n",
              "      <td>...</td>\n",
              "    </tr>\n",
              "    <tr>\n",
              "      <th>1582</th>\n",
              "      <td>Pietro Lombardi</td>\n",
              "      <td>2.041000e+10</td>\n",
              "      <td>Não informado</td>\n",
              "      <td>0.022</td>\n",
              "    </tr>\n",
              "    <tr>\n",
              "      <th>1583</th>\n",
              "      <td>Duffy</td>\n",
              "      <td>2.032000e+10</td>\n",
              "      <td>Não informado</td>\n",
              "      <td>0.020</td>\n",
              "    </tr>\n",
              "    <tr>\n",
              "      <th>1584</th>\n",
              "      <td>Psirico</td>\n",
              "      <td>2.011000e+10</td>\n",
              "      <td>1.0</td>\n",
              "      <td>0.039</td>\n",
              "    </tr>\n",
              "    <tr>\n",
              "      <th>1585</th>\n",
              "      <td>Alex Clare</td>\n",
              "      <td>2.008000e+10</td>\n",
              "      <td>Não informado</td>\n",
              "      <td>0.020</td>\n",
              "    </tr>\n",
              "    <tr>\n",
              "      <th>1586</th>\n",
              "      <td>The Avener</td>\n",
              "      <td>2.005000e+10</td>\n",
              "      <td>Não informado</td>\n",
              "      <td>0.036</td>\n",
              "    </tr>\n",
              "  </tbody>\n",
              "</table>\n",
              "<p>1587 rows × 4 columns</p>\n",
              "</div>\n",
              "      <button class=\"colab-df-convert\" onclick=\"convertToInteractive('df-b2490697-4fbd-45c0-aa65-11512316c1d0')\"\n",
              "              title=\"Convert this dataframe to an interactive table.\"\n",
              "              style=\"display:none;\">\n",
              "        \n",
              "  <svg xmlns=\"http://www.w3.org/2000/svg\" height=\"24px\"viewBox=\"0 0 24 24\"\n",
              "       width=\"24px\">\n",
              "    <path d=\"M0 0h24v24H0V0z\" fill=\"none\"/>\n",
              "    <path d=\"M18.56 5.44l.94 2.06.94-2.06 2.06-.94-2.06-.94-.94-2.06-.94 2.06-2.06.94zm-11 1L8.5 8.5l.94-2.06 2.06-.94-2.06-.94L8.5 2.5l-.94 2.06-2.06.94zm10 10l.94 2.06.94-2.06 2.06-.94-2.06-.94-.94-2.06-.94 2.06-2.06.94z\"/><path d=\"M17.41 7.96l-1.37-1.37c-.4-.4-.92-.59-1.43-.59-.52 0-1.04.2-1.43.59L10.3 9.45l-7.72 7.72c-.78.78-.78 2.05 0 2.83L4 21.41c.39.39.9.59 1.41.59.51 0 1.02-.2 1.41-.59l7.78-7.78 2.81-2.81c.8-.78.8-2.07 0-2.86zM5.41 20L4 18.59l7.72-7.72 1.47 1.35L5.41 20z\"/>\n",
              "  </svg>\n",
              "      </button>\n",
              "      \n",
              "  <style>\n",
              "    .colab-df-container {\n",
              "      display:flex;\n",
              "      flex-wrap:wrap;\n",
              "      gap: 12px;\n",
              "    }\n",
              "\n",
              "    .colab-df-convert {\n",
              "      background-color: #E8F0FE;\n",
              "      border: none;\n",
              "      border-radius: 50%;\n",
              "      cursor: pointer;\n",
              "      display: none;\n",
              "      fill: #1967D2;\n",
              "      height: 32px;\n",
              "      padding: 0 0 0 0;\n",
              "      width: 32px;\n",
              "    }\n",
              "\n",
              "    .colab-df-convert:hover {\n",
              "      background-color: #E2EBFA;\n",
              "      box-shadow: 0px 1px 2px rgba(60, 64, 67, 0.3), 0px 1px 3px 1px rgba(60, 64, 67, 0.15);\n",
              "      fill: #174EA6;\n",
              "    }\n",
              "\n",
              "    [theme=dark] .colab-df-convert {\n",
              "      background-color: #3B4455;\n",
              "      fill: #D2E3FC;\n",
              "    }\n",
              "\n",
              "    [theme=dark] .colab-df-convert:hover {\n",
              "      background-color: #434B5C;\n",
              "      box-shadow: 0px 1px 3px 1px rgba(0, 0, 0, 0.15);\n",
              "      filter: drop-shadow(0px 1px 2px rgba(0, 0, 0, 0.3));\n",
              "      fill: #FFFFFF;\n",
              "    }\n",
              "  </style>\n",
              "\n",
              "      <script>\n",
              "        const buttonEl =\n",
              "          document.querySelector('#df-b2490697-4fbd-45c0-aa65-11512316c1d0 button.colab-df-convert');\n",
              "        buttonEl.style.display =\n",
              "          google.colab.kernel.accessAllowed ? 'block' : 'none';\n",
              "\n",
              "        async function convertToInteractive(key) {\n",
              "          const element = document.querySelector('#df-b2490697-4fbd-45c0-aa65-11512316c1d0');\n",
              "          const dataTable =\n",
              "            await google.colab.kernel.invokeFunction('convertToInteractive',\n",
              "                                                     [key], {});\n",
              "          if (!dataTable) return;\n",
              "\n",
              "          const docLinkHtml = 'Like what you see? Visit the ' +\n",
              "            '<a target=\"_blank\" href=https://colab.research.google.com/notebooks/data_table.ipynb>data table notebook</a>'\n",
              "            + ' to learn more about interactive tables.';\n",
              "          element.innerHTML = '';\n",
              "          dataTable['output_type'] = 'display_data';\n",
              "          await google.colab.output.renderOutput(dataTable, element);\n",
              "          const docLink = document.createElement('div');\n",
              "          docLink.innerHTML = docLinkHtml;\n",
              "          element.appendChild(docLink);\n",
              "        }\n",
              "      </script>\n",
              "    </div>\n",
              "  </div>\n",
              "  "
            ]
          },
          "metadata": {},
          "execution_count": 80
        }
      ]
    },
    {
      "cell_type": "markdown",
      "source": [
        "## Formatar coluna “AVG” para 2 casas decimais depois da vírgula."
      ],
      "metadata": {
        "id": "YJa5_QBrKQ_s"
      }
    },
    {
      "cell_type": "code",
      "source": [
        "df['Avg']"
      ],
      "metadata": {
        "colab": {
          "base_uri": "https://localhost:8080/"
        },
        "id": "9PBG1oM8KZTe",
        "outputId": "2a5f8417-e16d-4e89-89bf-3137e3c0c7c5"
      },
      "execution_count": 81,
      "outputs": [
        {
          "output_type": "execute_result",
          "data": {
            "text/plain": [
              "0        7.370\n",
              "1       14.555\n",
              "2        3.986\n",
              "3        4.609\n",
              "4        5.716\n",
              "         ...  \n",
              "1582     0.022\n",
              "1583     0.020\n",
              "1584     0.039\n",
              "1585     0.020\n",
              "1586     0.036\n",
              "Name: Avg, Length: 1587, dtype: float64"
            ]
          },
          "metadata": {},
          "execution_count": 81
        }
      ]
    },
    {
      "cell_type": "code",
      "source": [
        "df['Avg'] = df['Avg'].round(2)"
      ],
      "metadata": {
        "id": "1qDiP1B7O5Ji"
      },
      "execution_count": 82,
      "outputs": []
    },
    {
      "cell_type": "markdown",
      "source": [
        "Neste exemplo, usamos o método round() para arredondar os valores da coluna \"AVG\" para duas casas decimais e conseguimos isso facilmente pois a coluna está no dtype: float."
      ],
      "metadata": {
        "id": "E0GBUW9zPgWp"
      }
    },
    {
      "cell_type": "code",
      "source": [
        "df['Avg']"
      ],
      "metadata": {
        "colab": {
          "base_uri": "https://localhost:8080/"
        },
        "id": "F6qbHDnWPQzd",
        "outputId": "a144ef26-f9b1-4621-acaf-6f10bd96fd06"
      },
      "execution_count": 83,
      "outputs": [
        {
          "output_type": "execute_result",
          "data": {
            "text/plain": [
              "0        7.37\n",
              "1       14.56\n",
              "2        3.99\n",
              "3        4.61\n",
              "4        5.72\n",
              "        ...  \n",
              "1582     0.02\n",
              "1583     0.02\n",
              "1584     0.04\n",
              "1585     0.02\n",
              "1586     0.04\n",
              "Name: Avg, Length: 1587, dtype: float64"
            ]
          },
          "metadata": {},
          "execution_count": 83
        }
      ]
    },
    {
      "cell_type": "markdown",
      "source": [
        "## Mostrar os top 10 usuários."
      ],
      "metadata": {
        "id": "2ejnn4hZKZq2"
      }
    },
    {
      "cell_type": "code",
      "source": [
        "df"
      ],
      "metadata": {
        "colab": {
          "base_uri": "https://localhost:8080/",
          "height": 424
        },
        "id": "qJ2TfCYdKePs",
        "outputId": "967ea755-02b4-4757-99de-b1471376c325"
      },
      "execution_count": 84,
      "outputs": [
        {
          "output_type": "execute_result",
          "data": {
            "text/plain": [
              "               Artist   Total Views           100M    Avg\n",
              "0                 BTS  2.794790e+12           63.0   7.37\n",
              "1           Bad Bunny  2.757340e+12           66.0  14.56\n",
              "2       Justin Bieber  2.739970e+12           37.0   3.99\n",
              "3          Ed Sheeran  2.689400e+12           39.0   4.61\n",
              "4        Taylor Swift  2.435000e+12           38.0   5.72\n",
              "...               ...           ...            ...    ...\n",
              "1582  Pietro Lombardi  2.041000e+10  Não informado   0.02\n",
              "1583            Duffy  2.032000e+10  Não informado   0.02\n",
              "1584          Psirico  2.011000e+10            1.0   0.04\n",
              "1585       Alex Clare  2.008000e+10  Não informado   0.02\n",
              "1586       The Avener  2.005000e+10  Não informado   0.04\n",
              "\n",
              "[1587 rows x 4 columns]"
            ],
            "text/html": [
              "\n",
              "  <div id=\"df-c4eb812b-44f9-4075-8649-2c74aa0a16df\">\n",
              "    <div class=\"colab-df-container\">\n",
              "      <div>\n",
              "<style scoped>\n",
              "    .dataframe tbody tr th:only-of-type {\n",
              "        vertical-align: middle;\n",
              "    }\n",
              "\n",
              "    .dataframe tbody tr th {\n",
              "        vertical-align: top;\n",
              "    }\n",
              "\n",
              "    .dataframe thead th {\n",
              "        text-align: right;\n",
              "    }\n",
              "</style>\n",
              "<table border=\"1\" class=\"dataframe\">\n",
              "  <thead>\n",
              "    <tr style=\"text-align: right;\">\n",
              "      <th></th>\n",
              "      <th>Artist</th>\n",
              "      <th>Total Views</th>\n",
              "      <th>100M</th>\n",
              "      <th>Avg</th>\n",
              "    </tr>\n",
              "  </thead>\n",
              "  <tbody>\n",
              "    <tr>\n",
              "      <th>0</th>\n",
              "      <td>BTS</td>\n",
              "      <td>2.794790e+12</td>\n",
              "      <td>63.0</td>\n",
              "      <td>7.37</td>\n",
              "    </tr>\n",
              "    <tr>\n",
              "      <th>1</th>\n",
              "      <td>Bad Bunny</td>\n",
              "      <td>2.757340e+12</td>\n",
              "      <td>66.0</td>\n",
              "      <td>14.56</td>\n",
              "    </tr>\n",
              "    <tr>\n",
              "      <th>2</th>\n",
              "      <td>Justin Bieber</td>\n",
              "      <td>2.739970e+12</td>\n",
              "      <td>37.0</td>\n",
              "      <td>3.99</td>\n",
              "    </tr>\n",
              "    <tr>\n",
              "      <th>3</th>\n",
              "      <td>Ed Sheeran</td>\n",
              "      <td>2.689400e+12</td>\n",
              "      <td>39.0</td>\n",
              "      <td>4.61</td>\n",
              "    </tr>\n",
              "    <tr>\n",
              "      <th>4</th>\n",
              "      <td>Taylor Swift</td>\n",
              "      <td>2.435000e+12</td>\n",
              "      <td>38.0</td>\n",
              "      <td>5.72</td>\n",
              "    </tr>\n",
              "    <tr>\n",
              "      <th>...</th>\n",
              "      <td>...</td>\n",
              "      <td>...</td>\n",
              "      <td>...</td>\n",
              "      <td>...</td>\n",
              "    </tr>\n",
              "    <tr>\n",
              "      <th>1582</th>\n",
              "      <td>Pietro Lombardi</td>\n",
              "      <td>2.041000e+10</td>\n",
              "      <td>Não informado</td>\n",
              "      <td>0.02</td>\n",
              "    </tr>\n",
              "    <tr>\n",
              "      <th>1583</th>\n",
              "      <td>Duffy</td>\n",
              "      <td>2.032000e+10</td>\n",
              "      <td>Não informado</td>\n",
              "      <td>0.02</td>\n",
              "    </tr>\n",
              "    <tr>\n",
              "      <th>1584</th>\n",
              "      <td>Psirico</td>\n",
              "      <td>2.011000e+10</td>\n",
              "      <td>1.0</td>\n",
              "      <td>0.04</td>\n",
              "    </tr>\n",
              "    <tr>\n",
              "      <th>1585</th>\n",
              "      <td>Alex Clare</td>\n",
              "      <td>2.008000e+10</td>\n",
              "      <td>Não informado</td>\n",
              "      <td>0.02</td>\n",
              "    </tr>\n",
              "    <tr>\n",
              "      <th>1586</th>\n",
              "      <td>The Avener</td>\n",
              "      <td>2.005000e+10</td>\n",
              "      <td>Não informado</td>\n",
              "      <td>0.04</td>\n",
              "    </tr>\n",
              "  </tbody>\n",
              "</table>\n",
              "<p>1587 rows × 4 columns</p>\n",
              "</div>\n",
              "      <button class=\"colab-df-convert\" onclick=\"convertToInteractive('df-c4eb812b-44f9-4075-8649-2c74aa0a16df')\"\n",
              "              title=\"Convert this dataframe to an interactive table.\"\n",
              "              style=\"display:none;\">\n",
              "        \n",
              "  <svg xmlns=\"http://www.w3.org/2000/svg\" height=\"24px\"viewBox=\"0 0 24 24\"\n",
              "       width=\"24px\">\n",
              "    <path d=\"M0 0h24v24H0V0z\" fill=\"none\"/>\n",
              "    <path d=\"M18.56 5.44l.94 2.06.94-2.06 2.06-.94-2.06-.94-.94-2.06-.94 2.06-2.06.94zm-11 1L8.5 8.5l.94-2.06 2.06-.94-2.06-.94L8.5 2.5l-.94 2.06-2.06.94zm10 10l.94 2.06.94-2.06 2.06-.94-2.06-.94-.94-2.06-.94 2.06-2.06.94z\"/><path d=\"M17.41 7.96l-1.37-1.37c-.4-.4-.92-.59-1.43-.59-.52 0-1.04.2-1.43.59L10.3 9.45l-7.72 7.72c-.78.78-.78 2.05 0 2.83L4 21.41c.39.39.9.59 1.41.59.51 0 1.02-.2 1.41-.59l7.78-7.78 2.81-2.81c.8-.78.8-2.07 0-2.86zM5.41 20L4 18.59l7.72-7.72 1.47 1.35L5.41 20z\"/>\n",
              "  </svg>\n",
              "      </button>\n",
              "      \n",
              "  <style>\n",
              "    .colab-df-container {\n",
              "      display:flex;\n",
              "      flex-wrap:wrap;\n",
              "      gap: 12px;\n",
              "    }\n",
              "\n",
              "    .colab-df-convert {\n",
              "      background-color: #E8F0FE;\n",
              "      border: none;\n",
              "      border-radius: 50%;\n",
              "      cursor: pointer;\n",
              "      display: none;\n",
              "      fill: #1967D2;\n",
              "      height: 32px;\n",
              "      padding: 0 0 0 0;\n",
              "      width: 32px;\n",
              "    }\n",
              "\n",
              "    .colab-df-convert:hover {\n",
              "      background-color: #E2EBFA;\n",
              "      box-shadow: 0px 1px 2px rgba(60, 64, 67, 0.3), 0px 1px 3px 1px rgba(60, 64, 67, 0.15);\n",
              "      fill: #174EA6;\n",
              "    }\n",
              "\n",
              "    [theme=dark] .colab-df-convert {\n",
              "      background-color: #3B4455;\n",
              "      fill: #D2E3FC;\n",
              "    }\n",
              "\n",
              "    [theme=dark] .colab-df-convert:hover {\n",
              "      background-color: #434B5C;\n",
              "      box-shadow: 0px 1px 3px 1px rgba(0, 0, 0, 0.15);\n",
              "      filter: drop-shadow(0px 1px 2px rgba(0, 0, 0, 0.3));\n",
              "      fill: #FFFFFF;\n",
              "    }\n",
              "  </style>\n",
              "\n",
              "      <script>\n",
              "        const buttonEl =\n",
              "          document.querySelector('#df-c4eb812b-44f9-4075-8649-2c74aa0a16df button.colab-df-convert');\n",
              "        buttonEl.style.display =\n",
              "          google.colab.kernel.accessAllowed ? 'block' : 'none';\n",
              "\n",
              "        async function convertToInteractive(key) {\n",
              "          const element = document.querySelector('#df-c4eb812b-44f9-4075-8649-2c74aa0a16df');\n",
              "          const dataTable =\n",
              "            await google.colab.kernel.invokeFunction('convertToInteractive',\n",
              "                                                     [key], {});\n",
              "          if (!dataTable) return;\n",
              "\n",
              "          const docLinkHtml = 'Like what you see? Visit the ' +\n",
              "            '<a target=\"_blank\" href=https://colab.research.google.com/notebooks/data_table.ipynb>data table notebook</a>'\n",
              "            + ' to learn more about interactive tables.';\n",
              "          element.innerHTML = '';\n",
              "          dataTable['output_type'] = 'display_data';\n",
              "          await google.colab.output.renderOutput(dataTable, element);\n",
              "          const docLink = document.createElement('div');\n",
              "          docLink.innerHTML = docLinkHtml;\n",
              "          element.appendChild(docLink);\n",
              "        }\n",
              "      </script>\n",
              "    </div>\n",
              "  </div>\n",
              "  "
            ]
          },
          "metadata": {},
          "execution_count": 84
        }
      ]
    },
    {
      "cell_type": "markdown",
      "source": [
        "Para mostrar os top 10 usuários em um DataFrame, ordenados por número total de views, você pode usar o método sort_values() para ordenar o DataFrame pela coluna \"Total Views\" em ordem decrescente e, em seguida, usar o método head() para selecionar as 10 primeiras linhas."
      ],
      "metadata": {
        "id": "z4VUXjpxQ2gE"
      }
    },
    {
      "cell_type": "code",
      "source": [
        "top_10 = df.sort_values(by='Total Views', ascending=False).head(10)"
      ],
      "metadata": {
        "id": "mnpxkTLGP7YT"
      },
      "execution_count": 86,
      "outputs": []
    },
    {
      "cell_type": "code",
      "source": [
        "top_10"
      ],
      "metadata": {
        "colab": {
          "base_uri": "https://localhost:8080/",
          "height": 363
        },
        "id": "SqZUMf-AQwT0",
        "outputId": "46f43161-cbae-4505-99cc-e20de5afc928"
      },
      "execution_count": 87,
      "outputs": [
        {
          "output_type": "execute_result",
          "data": {
            "text/plain": [
              "          Artist   Total Views  100M    Avg\n",
              "0            BTS  2.794790e+12  63.0   7.37\n",
              "1      Bad Bunny  2.757340e+12  66.0  14.56\n",
              "2  Justin Bieber  2.739970e+12  37.0   3.99\n",
              "3     Ed Sheeran  2.689400e+12  39.0   4.61\n",
              "4   Taylor Swift  2.435000e+12  38.0   5.72\n",
              "5        Shakira  2.396180e+12  43.0   7.84\n",
              "6     Katy Perry  2.355340e+12  25.0   3.18\n",
              "7          Ozuna  2.252480e+12  49.0   4.93\n",
              "8         Eminem  2.093770e+12  38.0   5.84\n",
              "9  Ariana Grande  2.061850e+12  37.0   3.37"
            ],
            "text/html": [
              "\n",
              "  <div id=\"df-0c53b49c-9489-44ee-a579-9b8601f25817\">\n",
              "    <div class=\"colab-df-container\">\n",
              "      <div>\n",
              "<style scoped>\n",
              "    .dataframe tbody tr th:only-of-type {\n",
              "        vertical-align: middle;\n",
              "    }\n",
              "\n",
              "    .dataframe tbody tr th {\n",
              "        vertical-align: top;\n",
              "    }\n",
              "\n",
              "    .dataframe thead th {\n",
              "        text-align: right;\n",
              "    }\n",
              "</style>\n",
              "<table border=\"1\" class=\"dataframe\">\n",
              "  <thead>\n",
              "    <tr style=\"text-align: right;\">\n",
              "      <th></th>\n",
              "      <th>Artist</th>\n",
              "      <th>Total Views</th>\n",
              "      <th>100M</th>\n",
              "      <th>Avg</th>\n",
              "    </tr>\n",
              "  </thead>\n",
              "  <tbody>\n",
              "    <tr>\n",
              "      <th>0</th>\n",
              "      <td>BTS</td>\n",
              "      <td>2.794790e+12</td>\n",
              "      <td>63.0</td>\n",
              "      <td>7.37</td>\n",
              "    </tr>\n",
              "    <tr>\n",
              "      <th>1</th>\n",
              "      <td>Bad Bunny</td>\n",
              "      <td>2.757340e+12</td>\n",
              "      <td>66.0</td>\n",
              "      <td>14.56</td>\n",
              "    </tr>\n",
              "    <tr>\n",
              "      <th>2</th>\n",
              "      <td>Justin Bieber</td>\n",
              "      <td>2.739970e+12</td>\n",
              "      <td>37.0</td>\n",
              "      <td>3.99</td>\n",
              "    </tr>\n",
              "    <tr>\n",
              "      <th>3</th>\n",
              "      <td>Ed Sheeran</td>\n",
              "      <td>2.689400e+12</td>\n",
              "      <td>39.0</td>\n",
              "      <td>4.61</td>\n",
              "    </tr>\n",
              "    <tr>\n",
              "      <th>4</th>\n",
              "      <td>Taylor Swift</td>\n",
              "      <td>2.435000e+12</td>\n",
              "      <td>38.0</td>\n",
              "      <td>5.72</td>\n",
              "    </tr>\n",
              "    <tr>\n",
              "      <th>5</th>\n",
              "      <td>Shakira</td>\n",
              "      <td>2.396180e+12</td>\n",
              "      <td>43.0</td>\n",
              "      <td>7.84</td>\n",
              "    </tr>\n",
              "    <tr>\n",
              "      <th>6</th>\n",
              "      <td>Katy Perry</td>\n",
              "      <td>2.355340e+12</td>\n",
              "      <td>25.0</td>\n",
              "      <td>3.18</td>\n",
              "    </tr>\n",
              "    <tr>\n",
              "      <th>7</th>\n",
              "      <td>Ozuna</td>\n",
              "      <td>2.252480e+12</td>\n",
              "      <td>49.0</td>\n",
              "      <td>4.93</td>\n",
              "    </tr>\n",
              "    <tr>\n",
              "      <th>8</th>\n",
              "      <td>Eminem</td>\n",
              "      <td>2.093770e+12</td>\n",
              "      <td>38.0</td>\n",
              "      <td>5.84</td>\n",
              "    </tr>\n",
              "    <tr>\n",
              "      <th>9</th>\n",
              "      <td>Ariana Grande</td>\n",
              "      <td>2.061850e+12</td>\n",
              "      <td>37.0</td>\n",
              "      <td>3.37</td>\n",
              "    </tr>\n",
              "  </tbody>\n",
              "</table>\n",
              "</div>\n",
              "      <button class=\"colab-df-convert\" onclick=\"convertToInteractive('df-0c53b49c-9489-44ee-a579-9b8601f25817')\"\n",
              "              title=\"Convert this dataframe to an interactive table.\"\n",
              "              style=\"display:none;\">\n",
              "        \n",
              "  <svg xmlns=\"http://www.w3.org/2000/svg\" height=\"24px\"viewBox=\"0 0 24 24\"\n",
              "       width=\"24px\">\n",
              "    <path d=\"M0 0h24v24H0V0z\" fill=\"none\"/>\n",
              "    <path d=\"M18.56 5.44l.94 2.06.94-2.06 2.06-.94-2.06-.94-.94-2.06-.94 2.06-2.06.94zm-11 1L8.5 8.5l.94-2.06 2.06-.94-2.06-.94L8.5 2.5l-.94 2.06-2.06.94zm10 10l.94 2.06.94-2.06 2.06-.94-2.06-.94-.94-2.06-.94 2.06-2.06.94z\"/><path d=\"M17.41 7.96l-1.37-1.37c-.4-.4-.92-.59-1.43-.59-.52 0-1.04.2-1.43.59L10.3 9.45l-7.72 7.72c-.78.78-.78 2.05 0 2.83L4 21.41c.39.39.9.59 1.41.59.51 0 1.02-.2 1.41-.59l7.78-7.78 2.81-2.81c.8-.78.8-2.07 0-2.86zM5.41 20L4 18.59l7.72-7.72 1.47 1.35L5.41 20z\"/>\n",
              "  </svg>\n",
              "      </button>\n",
              "      \n",
              "  <style>\n",
              "    .colab-df-container {\n",
              "      display:flex;\n",
              "      flex-wrap:wrap;\n",
              "      gap: 12px;\n",
              "    }\n",
              "\n",
              "    .colab-df-convert {\n",
              "      background-color: #E8F0FE;\n",
              "      border: none;\n",
              "      border-radius: 50%;\n",
              "      cursor: pointer;\n",
              "      display: none;\n",
              "      fill: #1967D2;\n",
              "      height: 32px;\n",
              "      padding: 0 0 0 0;\n",
              "      width: 32px;\n",
              "    }\n",
              "\n",
              "    .colab-df-convert:hover {\n",
              "      background-color: #E2EBFA;\n",
              "      box-shadow: 0px 1px 2px rgba(60, 64, 67, 0.3), 0px 1px 3px 1px rgba(60, 64, 67, 0.15);\n",
              "      fill: #174EA6;\n",
              "    }\n",
              "\n",
              "    [theme=dark] .colab-df-convert {\n",
              "      background-color: #3B4455;\n",
              "      fill: #D2E3FC;\n",
              "    }\n",
              "\n",
              "    [theme=dark] .colab-df-convert:hover {\n",
              "      background-color: #434B5C;\n",
              "      box-shadow: 0px 1px 3px 1px rgba(0, 0, 0, 0.15);\n",
              "      filter: drop-shadow(0px 1px 2px rgba(0, 0, 0, 0.3));\n",
              "      fill: #FFFFFF;\n",
              "    }\n",
              "  </style>\n",
              "\n",
              "      <script>\n",
              "        const buttonEl =\n",
              "          document.querySelector('#df-0c53b49c-9489-44ee-a579-9b8601f25817 button.colab-df-convert');\n",
              "        buttonEl.style.display =\n",
              "          google.colab.kernel.accessAllowed ? 'block' : 'none';\n",
              "\n",
              "        async function convertToInteractive(key) {\n",
              "          const element = document.querySelector('#df-0c53b49c-9489-44ee-a579-9b8601f25817');\n",
              "          const dataTable =\n",
              "            await google.colab.kernel.invokeFunction('convertToInteractive',\n",
              "                                                     [key], {});\n",
              "          if (!dataTable) return;\n",
              "\n",
              "          const docLinkHtml = 'Like what you see? Visit the ' +\n",
              "            '<a target=\"_blank\" href=https://colab.research.google.com/notebooks/data_table.ipynb>data table notebook</a>'\n",
              "            + ' to learn more about interactive tables.';\n",
              "          element.innerHTML = '';\n",
              "          dataTable['output_type'] = 'display_data';\n",
              "          await google.colab.output.renderOutput(dataTable, element);\n",
              "          const docLink = document.createElement('div');\n",
              "          docLink.innerHTML = docLinkHtml;\n",
              "          element.appendChild(docLink);\n",
              "        }\n",
              "      </script>\n",
              "    </div>\n",
              "  </div>\n",
              "  "
            ]
          },
          "metadata": {},
          "execution_count": 87
        }
      ]
    },
    {
      "cell_type": "markdown",
      "source": [
        "## Mostrar primeiros 100 usuários por nome decrescente."
      ],
      "metadata": {
        "id": "UVN8POWdKdWQ"
      }
    },
    {
      "cell_type": "markdown",
      "source": [
        "Para mostrar os primeiros 100 usuários em um DataFrame ordenados por nome em ordem decrescente, você pode usar o método sort_values() para ordenar o DataFrame pela coluna \"nome\" em ordem decrescente e, em seguida, usar o método head() para selecionar as 100 primeiras linhas."
      ],
      "metadata": {
        "id": "lvbFXTEpRqIf"
      }
    },
    {
      "cell_type": "code",
      "source": [
        "primeiros_100 = df.sort_values(by='Artist', ascending=False).head(100)"
      ],
      "metadata": {
        "id": "fah1RMcZKiBn"
      },
      "execution_count": 88,
      "outputs": []
    },
    {
      "cell_type": "code",
      "source": [
        "primeiros_100"
      ],
      "metadata": {
        "colab": {
          "base_uri": "https://localhost:8080/",
          "height": 424
        },
        "id": "lswLu_hVRS_W",
        "outputId": "45958b20-b532-46ce-bbd2-928d08a6cf79"
      },
      "execution_count": 89,
      "outputs": [
        {
          "output_type": "execute_result",
          "data": {
            "text/plain": [
              "             Artist   Total Views           100M   Avg\n",
              "1374         Łobuzy  3.965000e+10            2.0  0.11\n",
              "537     İrem Derici  1.717300e+11            3.0  0.32\n",
              "634      Ñengo Flow  1.388800e+11            4.0  0.82\n",
              "1032  Çağatay Akman  7.427000e+10            2.0  0.05\n",
              "350       will.i.am  2.582000e+11            6.0  0.30\n",
              "...             ...           ...            ...   ...\n",
              "516      Via Vallen  1.787500e+11            3.0  0.08\n",
              "1507   Veysel Mutlu  2.774000e+10            1.0  0.03\n",
              "1358         Veysel  4.122000e+10  Não informado  0.06\n",
              "891       Vengaboys  9.348000e+10            3.0  0.34\n",
              "864       Vegedream  9.913000e+10            1.0  0.51\n",
              "\n",
              "[100 rows x 4 columns]"
            ],
            "text/html": [
              "\n",
              "  <div id=\"df-9e411ec7-3b18-46c0-813b-e8c58bb77459\">\n",
              "    <div class=\"colab-df-container\">\n",
              "      <div>\n",
              "<style scoped>\n",
              "    .dataframe tbody tr th:only-of-type {\n",
              "        vertical-align: middle;\n",
              "    }\n",
              "\n",
              "    .dataframe tbody tr th {\n",
              "        vertical-align: top;\n",
              "    }\n",
              "\n",
              "    .dataframe thead th {\n",
              "        text-align: right;\n",
              "    }\n",
              "</style>\n",
              "<table border=\"1\" class=\"dataframe\">\n",
              "  <thead>\n",
              "    <tr style=\"text-align: right;\">\n",
              "      <th></th>\n",
              "      <th>Artist</th>\n",
              "      <th>Total Views</th>\n",
              "      <th>100M</th>\n",
              "      <th>Avg</th>\n",
              "    </tr>\n",
              "  </thead>\n",
              "  <tbody>\n",
              "    <tr>\n",
              "      <th>1374</th>\n",
              "      <td>Łobuzy</td>\n",
              "      <td>3.965000e+10</td>\n",
              "      <td>2.0</td>\n",
              "      <td>0.11</td>\n",
              "    </tr>\n",
              "    <tr>\n",
              "      <th>537</th>\n",
              "      <td>İrem Derici</td>\n",
              "      <td>1.717300e+11</td>\n",
              "      <td>3.0</td>\n",
              "      <td>0.32</td>\n",
              "    </tr>\n",
              "    <tr>\n",
              "      <th>634</th>\n",
              "      <td>Ñengo Flow</td>\n",
              "      <td>1.388800e+11</td>\n",
              "      <td>4.0</td>\n",
              "      <td>0.82</td>\n",
              "    </tr>\n",
              "    <tr>\n",
              "      <th>1032</th>\n",
              "      <td>Çağatay Akman</td>\n",
              "      <td>7.427000e+10</td>\n",
              "      <td>2.0</td>\n",
              "      <td>0.05</td>\n",
              "    </tr>\n",
              "    <tr>\n",
              "      <th>350</th>\n",
              "      <td>will.i.am</td>\n",
              "      <td>2.582000e+11</td>\n",
              "      <td>6.0</td>\n",
              "      <td>0.30</td>\n",
              "    </tr>\n",
              "    <tr>\n",
              "      <th>...</th>\n",
              "      <td>...</td>\n",
              "      <td>...</td>\n",
              "      <td>...</td>\n",
              "      <td>...</td>\n",
              "    </tr>\n",
              "    <tr>\n",
              "      <th>516</th>\n",
              "      <td>Via Vallen</td>\n",
              "      <td>1.787500e+11</td>\n",
              "      <td>3.0</td>\n",
              "      <td>0.08</td>\n",
              "    </tr>\n",
              "    <tr>\n",
              "      <th>1507</th>\n",
              "      <td>Veysel Mutlu</td>\n",
              "      <td>2.774000e+10</td>\n",
              "      <td>1.0</td>\n",
              "      <td>0.03</td>\n",
              "    </tr>\n",
              "    <tr>\n",
              "      <th>1358</th>\n",
              "      <td>Veysel</td>\n",
              "      <td>4.122000e+10</td>\n",
              "      <td>Não informado</td>\n",
              "      <td>0.06</td>\n",
              "    </tr>\n",
              "    <tr>\n",
              "      <th>891</th>\n",
              "      <td>Vengaboys</td>\n",
              "      <td>9.348000e+10</td>\n",
              "      <td>3.0</td>\n",
              "      <td>0.34</td>\n",
              "    </tr>\n",
              "    <tr>\n",
              "      <th>864</th>\n",
              "      <td>Vegedream</td>\n",
              "      <td>9.913000e+10</td>\n",
              "      <td>1.0</td>\n",
              "      <td>0.51</td>\n",
              "    </tr>\n",
              "  </tbody>\n",
              "</table>\n",
              "<p>100 rows × 4 columns</p>\n",
              "</div>\n",
              "      <button class=\"colab-df-convert\" onclick=\"convertToInteractive('df-9e411ec7-3b18-46c0-813b-e8c58bb77459')\"\n",
              "              title=\"Convert this dataframe to an interactive table.\"\n",
              "              style=\"display:none;\">\n",
              "        \n",
              "  <svg xmlns=\"http://www.w3.org/2000/svg\" height=\"24px\"viewBox=\"0 0 24 24\"\n",
              "       width=\"24px\">\n",
              "    <path d=\"M0 0h24v24H0V0z\" fill=\"none\"/>\n",
              "    <path d=\"M18.56 5.44l.94 2.06.94-2.06 2.06-.94-2.06-.94-.94-2.06-.94 2.06-2.06.94zm-11 1L8.5 8.5l.94-2.06 2.06-.94-2.06-.94L8.5 2.5l-.94 2.06-2.06.94zm10 10l.94 2.06.94-2.06 2.06-.94-2.06-.94-.94-2.06-.94 2.06-2.06.94z\"/><path d=\"M17.41 7.96l-1.37-1.37c-.4-.4-.92-.59-1.43-.59-.52 0-1.04.2-1.43.59L10.3 9.45l-7.72 7.72c-.78.78-.78 2.05 0 2.83L4 21.41c.39.39.9.59 1.41.59.51 0 1.02-.2 1.41-.59l7.78-7.78 2.81-2.81c.8-.78.8-2.07 0-2.86zM5.41 20L4 18.59l7.72-7.72 1.47 1.35L5.41 20z\"/>\n",
              "  </svg>\n",
              "      </button>\n",
              "      \n",
              "  <style>\n",
              "    .colab-df-container {\n",
              "      display:flex;\n",
              "      flex-wrap:wrap;\n",
              "      gap: 12px;\n",
              "    }\n",
              "\n",
              "    .colab-df-convert {\n",
              "      background-color: #E8F0FE;\n",
              "      border: none;\n",
              "      border-radius: 50%;\n",
              "      cursor: pointer;\n",
              "      display: none;\n",
              "      fill: #1967D2;\n",
              "      height: 32px;\n",
              "      padding: 0 0 0 0;\n",
              "      width: 32px;\n",
              "    }\n",
              "\n",
              "    .colab-df-convert:hover {\n",
              "      background-color: #E2EBFA;\n",
              "      box-shadow: 0px 1px 2px rgba(60, 64, 67, 0.3), 0px 1px 3px 1px rgba(60, 64, 67, 0.15);\n",
              "      fill: #174EA6;\n",
              "    }\n",
              "\n",
              "    [theme=dark] .colab-df-convert {\n",
              "      background-color: #3B4455;\n",
              "      fill: #D2E3FC;\n",
              "    }\n",
              "\n",
              "    [theme=dark] .colab-df-convert:hover {\n",
              "      background-color: #434B5C;\n",
              "      box-shadow: 0px 1px 3px 1px rgba(0, 0, 0, 0.15);\n",
              "      filter: drop-shadow(0px 1px 2px rgba(0, 0, 0, 0.3));\n",
              "      fill: #FFFFFF;\n",
              "    }\n",
              "  </style>\n",
              "\n",
              "      <script>\n",
              "        const buttonEl =\n",
              "          document.querySelector('#df-9e411ec7-3b18-46c0-813b-e8c58bb77459 button.colab-df-convert');\n",
              "        buttonEl.style.display =\n",
              "          google.colab.kernel.accessAllowed ? 'block' : 'none';\n",
              "\n",
              "        async function convertToInteractive(key) {\n",
              "          const element = document.querySelector('#df-9e411ec7-3b18-46c0-813b-e8c58bb77459');\n",
              "          const dataTable =\n",
              "            await google.colab.kernel.invokeFunction('convertToInteractive',\n",
              "                                                     [key], {});\n",
              "          if (!dataTable) return;\n",
              "\n",
              "          const docLinkHtml = 'Like what you see? Visit the ' +\n",
              "            '<a target=\"_blank\" href=https://colab.research.google.com/notebooks/data_table.ipynb>data table notebook</a>'\n",
              "            + ' to learn more about interactive tables.';\n",
              "          element.innerHTML = '';\n",
              "          dataTable['output_type'] = 'display_data';\n",
              "          await google.colab.output.renderOutput(dataTable, element);\n",
              "          const docLink = document.createElement('div');\n",
              "          docLink.innerHTML = docLinkHtml;\n",
              "          element.appendChild(docLink);\n",
              "        }\n",
              "      </script>\n",
              "    </div>\n",
              "  </div>\n",
              "  "
            ]
          },
          "metadata": {},
          "execution_count": 89
        }
      ]
    },
    {
      "cell_type": "markdown",
      "source": [
        "Neste exemplo, usamos o método sort_values() para ordenar o DataFrame df pela coluna \"artist\" em ordem decrescente. Em seguida, usamos o método head() para selecionar as 100 primeiras linhas do DataFrame ordenado. O resultado será um DataFrame com as informações dos primeiros 100 usuários ordenados por nome em ordem decrescente."
      ],
      "metadata": {
        "id": "9UGDAKTPRt3F"
      }
    },
    {
      "cell_type": "markdown",
      "source": [
        "## Salvar um novo CSV com a informação tratada."
      ],
      "metadata": {
        "id": "guH90_StKiKk"
      }
    },
    {
      "cell_type": "code",
      "source": [
        "df.to_csv('tratado.csv', index=False, sep=',')"
      ],
      "metadata": {
        "id": "0u_zctgAKlwq"
      },
      "execution_count": 90,
      "outputs": []
    }
  ]
}