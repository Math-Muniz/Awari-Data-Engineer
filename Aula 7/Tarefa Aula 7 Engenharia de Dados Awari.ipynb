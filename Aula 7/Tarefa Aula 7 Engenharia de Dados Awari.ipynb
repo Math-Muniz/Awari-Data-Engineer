{
 "cells": [
  {
   "cell_type": "code",
   "execution_count": 1,
   "id": "c0ded1fb-3fad-4455-8767-f823f06e29fe",
   "metadata": {
    "tags": []
   },
   "outputs": [
    {
     "name": "stdout",
     "output_type": "stream",
     "text": [
      "Requirement already satisfied: watchdog in /opt/conda/lib/python3.10/site-packages (3.0.0)\n",
      "Note: you may need to restart the kernel to use updated packages.\n"
     ]
    }
   ],
   "source": [
    "pip install watchdog"
   ]
  },
  {
   "cell_type": "code",
   "execution_count": 2,
   "id": "f2abbe5f-3be6-4b34-bd6e-8c8547c8857f",
   "metadata": {
    "tags": []
   },
   "outputs": [],
   "source": [
    "#Importar as diferenças que são criadas nos dados da pasta /exercicios/municipios-estados/streaming/. A cada vez que um novo arquivo for adicionado,\n",
    "#o mesmo deve ser importado para a pasta da UF correspondente e adicionado ao fim do arquivo cidades.csv."
   ]
  },
  {
   "cell_type": "code",
   "execution_count": null,
   "id": "b7c15b9f-7991-45ea-97b6-dad7af3bf445",
   "metadata": {
    "tags": []
   },
   "outputs": [],
   "source": [
    "import os\n",
    "import pandas as pd\n",
    "from unidecode import unidecode\n",
    "import time\n",
    "from watchdog.observers import Observer\n",
    "from watchdog.events import FileSystemEventHandler\n",
    "from kafka import KafkaProducer\n",
    "\n",
    "# Primeiro temos a criação de uma instância da classe Watcher, que inicializa um objeto Observer que irá monitorar o diretório especificado no método run.\n",
    "class Watcher:\n",
    "    def __init__(self):\n",
    "        self.observer = Observer()\n",
    "        \n",
    "# A definição da classe Handler, que herda de FileSystemEventHandler e implementa o método on_any_event. \n",
    "# Esse método é chamado toda vez que um evento é disparado pelo Observer, e a implementação aqui faz o tratamento do evento apenas se for do tipo created.\n",
    "\n",
    "    def run(self):\n",
    "        event_handler = Handler()\n",
    "        self.observer.schedule(event_handler, 'exercicios/municipios-estados/streaming', recursive=True)\n",
    "        self.observer.start()\n",
    "        try:\n",
    "            while True:\n",
    "                time.sleep(5)\n",
    "        except:\n",
    "            self.observer.stop()\n",
    "            print(\"Observer stopped\")\n",
    "\n",
    "# Dentro do método on_any_event, é feita a leitura do arquivo criado e o merge com o arquivo de estados. O arquivo final é então salvo em um diretório com o nome do estado correspondente.\n",
    "\n",
    "class Handler(FileSystemEventHandler):\n",
    "    @staticmethod\n",
    "    def on_any_event(event):\n",
    "        if event.is_directory:\n",
    "            return None\n",
    "        elif event.event_type == 'created':\n",
    "            print(f\"New file detected: {event.src_path}\")\n",
    "            estados_df = pd.read_csv('exercicios/municipios-estados/csv/estados.csv', sep=',')\n",
    "            municipios_df = pd.read_csv(event.src_path, sep=',')\n",
    "            municipios_df.rename(columns={'uf': 'codigo_uf'}, inplace=True)\n",
    "            df_cidades = pd.merge(estados_df, municipios_df, on='codigo_uf')\n",
    "            estado_formatado = unidecode(df_cidades['nome_estado'].iloc[0]).replace(' ', '_').lower()\n",
    "            if not os.path.exists(estado_formatado):\n",
    "                os.mkdir(estado_formatado)\n",
    "            file_path = f\"{estado_formatado}/cidades.csv\"\n",
    "            if os.path.exists(file_path):\n",
    "                df_cidades.to_csv(file_path, mode='a', header=False, index=False)\n",
    "            else:\n",
    "                df_cidades.to_csv(file_path, index=False)\n",
    "\n",
    "if __name__ == '__main__':\n",
    "    w = Watcher()\n",
    "    w.run()\n"
   ]
  },
  {
   "cell_type": "code",
   "execution_count": null,
   "id": "9e9ff30e-7311-41e3-b7be-3de5d60f5c27",
   "metadata": {
    "tags": []
   },
   "outputs": [],
   "source": [
    "# Agora vamos utilizar Apache Kafka para fazer o mesmo processo, mas de maneira automatizada.\n",
    "\n",
    "# Cria um producer, responsavel por enviar mensagens ao Kafka\n",
    "producer = KafkaProducer(bootstrap_servers=['awari-kafka:9093'],\n",
    "                         value_serializer=lambda x: \n",
    "                         dumps(x).encode('utf-8'))\n",
    "\n",
    "# O código é projetado para rodar infinitamente. A classe Watcher usa o método Observer.schedule() para monitorar o diretório \n",
    "# 'exercicios/municipios-estados/streaming' em busca de novos arquivos.\n",
    "class Watcher:\n",
    "    def __init__(self):\n",
    "        self.observer = Observer()\n",
    "        \n",
    "# Se um novo arquivo for criado, o método Handler.on_any_event() é chamado e a mensagem é enviada ao Kafka através do KafkaProducer.\n",
    "# loop while True: é utilizado para manter a aplicação em execução indefinidamente enquanto o monitoramento do diretório é realizado.\n",
    "# exceção é capturada pelo bloco except: e o método Observer.stop() é chamado para finalizar a execução do monitoramento do diretório.\n",
    "\n",
    "    def run(self):\n",
    "        event_handler = Handler()\n",
    "        self.observer.schedule(event_handler, 'exercicios/municipios-estados/streaming', recursive=True)\n",
    "        self.observer.start()\n",
    "        try:\n",
    "            while True:\n",
    "                pass\n",
    "        except:\n",
    "            self.observer.stop()\n",
    "            print(\"Observer stopped\")\n",
    "\n",
    "class Handler(FileSystemEventHandler):\n",
    "    @staticmethod\n",
    "    def on_any_event(event):\n",
    "        if event.is_directory:\n",
    "            return None\n",
    "        elif event.event_type == 'created':\n",
    "            print(f\"New file detected: {event.src_path}\")\n",
    "            producer.send('novo_arquivo', event.src_path.encode())\n",
    "\n",
    "if __name__ == '__main__':\n",
    "    w = Watcher()\n",
    "    w.run()"
   ]
  },
  {
   "cell_type": "code",
   "execution_count": null,
   "id": "618d2a1c-ff03-4a53-89ce-871d178034aa",
   "metadata": {},
   "outputs": [],
   "source": []
  }
 ],
 "metadata": {
  "kernelspec": {
   "display_name": "Python 3 (ipykernel)",
   "language": "python",
   "name": "python3"
  },
  "language_info": {
   "codemirror_mode": {
    "name": "ipython",
    "version": 3
   },
   "file_extension": ".py",
   "mimetype": "text/x-python",
   "name": "python",
   "nbconvert_exporter": "python",
   "pygments_lexer": "ipython3",
   "version": "3.10.9"
  }
 },
 "nbformat": 4,
 "nbformat_minor": 5
}
