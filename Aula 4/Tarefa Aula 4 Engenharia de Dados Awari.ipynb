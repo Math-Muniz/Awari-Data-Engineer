{
  "nbformat": 4,
  "nbformat_minor": 0,
  "metadata": {
    "colab": {
      "provenance": [],
      "collapsed_sections": [
        "AwKQeuQQE2rE",
        "XZgJZ9OpEra-",
        "wOj4v-JiEt5E"
      ]
    },
    "kernelspec": {
      "name": "python3",
      "display_name": "Python 3"
    },
    "language_info": {
      "name": "python"
    }
  },
  "cells": [
    {
      "cell_type": "markdown",
      "source": [
        "#Tarefa: Python Basics\n",
        "Esta é a tarefa proposta para a 4ª aula do curso de Engenharia de Dados da Awari. Siga as instruções para desenvolvê-la e entregá-la.\n",
        "\n",
        "#O que fazer?\n",
        "As atividades propostas são apenas exercícios “de brinquedo” para reforçar conhecimentos básicos em Python:\n",
        "\n",
        "1. Criar algoritmo que liste toda a sequência de Fibonacci até o número 100;\n",
        "2. Criar algoritmo que faça a fatoração do número 1024. (Exemplo de fatoração: 6! = 6x5x4x3x2x1).\n",
        "3. Criar uma lista de frutas (bananas, maçãs, peras, uvas, laranjas) e fazer um algoritmo para consultar se uma fruta existe na lista. Caso não exista, adicionar a nova fruta. O programa só deve encerrar a brincadeira quando o usuário informar o número 999."
      ],
      "metadata": {
        "id": "5pOwr66q8-Cz"
      }
    },
    {
      "cell_type": "markdown",
      "source": [
        "## Para listar toda a sequência de Fibonacci até o número 100 em Python, podemos utilizar a seguinte implementação:"
      ],
      "metadata": {
        "id": "AwKQeuQQE2rE"
      }
    },
    {
      "cell_type": "code",
      "source": [
        "a = 0\n",
        "b = 1\n",
        "\n",
        "while a <= 100:\n",
        "  print(a)\n",
        "  a, b = b, a + b"
      ],
      "metadata": {
        "colab": {
          "base_uri": "https://localhost:8080/"
        },
        "id": "FEVwzyrP9btZ",
        "outputId": "5394eb84-4ddf-43b3-82c2-333f283fae31"
      },
      "execution_count": 8,
      "outputs": [
        {
          "output_type": "stream",
          "name": "stdout",
          "text": [
            "0\n",
            "1\n",
            "1\n",
            "2\n",
            "3\n",
            "5\n",
            "8\n",
            "13\n",
            "21\n",
            "34\n",
            "55\n",
            "89\n"
          ]
        }
      ]
    },
    {
      "cell_type": "markdown",
      "source": [
        "Ambas as expressões a, b = b, a + b e a = b, b = a+b realizam a troca dos valores de duas variáveis a e b. No entanto, a primeira expressão é uma forma mais concisa e elegante de fazer essa troca, utilizando a atribuição múltipla de variáveis em Python. Vamos ver a diferença na prática:\n",
        "\n",
        "Suponha que temos duas variáveis a e b inicialmente com valores 3 e 5, respectivamente. Se quisermos trocar esses valores utilizando a expressão a, b = b, a + b, teríamos 5 e 8 como resultado."
      ],
      "metadata": {
        "id": "eONQxy_OE_qs"
      }
    },
    {
      "cell_type": "code",
      "source": [
        "a = 3\n",
        "b = 5\n",
        "\n",
        "a, b = b, a + b\n",
        "\n",
        "print(a, b) # Output: 5 8"
      ],
      "metadata": {
        "id": "RZHPatdGFQCg"
      },
      "execution_count": null,
      "outputs": []
    },
    {
      "cell_type": "markdown",
      "source": [
        "Note que a expressão a, b = b, a + b troca os valores de a e b de forma simultânea, sem precisar utilizar uma variável temporária ou uma expressão adicional. O resultado final é que a passa a ter o valor de b e b passa a ter o valor da soma de a e b.\n",
        "\n",
        "Por outro lado, se utilizarmos a expressão a = b, b = a+b para fazer a mesma troca, teríamos:"
      ],
      "metadata": {
        "id": "1cHDOVDCFM_l"
      }
    },
    {
      "cell_type": "code",
      "source": [
        "a = 3\n",
        "b = 5\n",
        "\n",
        "a = b\n",
        "b = a + b\n",
        "\n",
        "print(a, b) # Output: 5 10"
      ],
      "metadata": {
        "id": "O41kcIInFSGT"
      },
      "execution_count": null,
      "outputs": []
    },
    {
      "cell_type": "markdown",
      "source": [
        "Nesse caso, a primeira linha a = b troca o valor de a pelo valor de b. Na segunda linha, b = a + b, b passa a ter o valor da soma do valor antigo de a com o valor atual de b, que resulta em 8. Portanto, o resultado final é que a passa a ter o valor de b (que é 5) e b passa a ter o valor da soma de a e b (que é 8), diferente do resultado obtido com a expressão a, b = b, a + b.\n",
        "\n",
        "Por essas razões, a expressão a, b = b, a + b é geralmente preferida em Python para fazer a troca de valores entre duas variáveis, por ser mais legível e menos propensa a erros."
      ],
      "metadata": {
        "id": "ms-gHEdnFUMH"
      }
    },
    {
      "cell_type": "markdown",
      "source": [
        "## Para fazer a fatoração do número 1024 em Python, podemos criar uma função que utilize um loop para encontrar todos os divisores do número e depois calcular os fatores primos. Aqui está um exemplo de como podemos fazer isso:"
      ],
      "metadata": {
        "id": "XZgJZ9OpEra-"
      }
    },
    {
      "cell_type": "code",
      "source": [
        "n = 1024\n",
        "factors = []\n",
        "i = 2\n",
        "while n > 1:\n",
        "    if n % i == 0:\n",
        "        factors.append(i)\n",
        "        n //= i\n",
        "    else:\n",
        "        i += 1\n",
        "print(factors)\n"
      ],
      "metadata": {
        "colab": {
          "base_uri": "https://localhost:8080/"
        },
        "id": "j4C4QJgKDejU",
        "outputId": "a51a9268-6202-4a5d-8b84-c1aaa52b779e"
      },
      "execution_count": 16,
      "outputs": [
        {
          "output_type": "stream",
          "name": "stdout",
          "text": [
            "[2, 2, 2, 2, 2, 2, 2, 2, 2, 2]\n"
          ]
        }
      ]
    },
    {
      "cell_type": "markdown",
      "source": [
        "Note que 1024 é igual a 2 elevado a décima potência, então a fatoração de 1024 consiste apenas de fatores iguais a 2. Nesse exemplo, a função fatoracao recebe o número que queremos fatorar como argumento e retorna uma lista com os fatores primos do número. A função utiliza um loop while para encontrar todos os divisores do número, começando com o menor divisor possível (2) e incrementando até encontrar todos os fatores.\n",
        "\n",
        "Cada vez que o loop encontra um divisor que divide o número atual sem deixar resto, ele adiciona esse divisor à lista de fatores primos e divide o número pelo divisor. Esse processo se repete até que o número seja reduzido a 1, o que significa que todos os seus fatores primos foram encontrados. Por fim, a função retorna a lista de fatores primos."
      ],
      "metadata": {
        "id": "BM7_ABgKEpb-"
      }
    },
    {
      "cell_type": "markdown",
      "source": [
        "## Para criar uma lista de frutas e fazer um algoritmo para consultar se uma fruta existe na lista em Python, podemos utilizar a seguinte implementação:"
      ],
      "metadata": {
        "id": "wOj4v-JiEt5E"
      }
    },
    {
      "cell_type": "code",
      "source": [
        "frutas = ['bananas', 'maçãs', 'peras', 'uvas', 'laranjas']\n",
        "while True:\n",
        "    fruta = input(\"Digite uma fruta (999 para sair): \")\n",
        "    if fruta == '999':\n",
        "        break\n",
        "    if fruta not in frutas:\n",
        "        frutas.append(fruta)\n",
        "    print(frutas)\n"
      ],
      "metadata": {
        "colab": {
          "base_uri": "https://localhost:8080/"
        },
        "id": "Kew9Tb3WDkkz",
        "outputId": "b2d451cf-741b-4650-b9c9-d98be006b3e9"
      },
      "execution_count": 11,
      "outputs": [
        {
          "name": "stdout",
          "output_type": "stream",
          "text": [
            "Digite uma fruta (999 para sair): abacate\n",
            "['bananas', 'maçãs', 'peras', 'uvas', 'laranjas', 'abacate']\n",
            "Digite uma fruta (999 para sair): 999\n"
          ]
        }
      ]
    }
  ]
}